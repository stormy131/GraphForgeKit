{
 "cells": [
  {
   "cell_type": "code",
   "execution_count": 1,
   "id": "648d3e1f",
   "metadata": {},
   "outputs": [],
   "source": [
    "import os\n",
    "import sys\n",
    "from importlib import reload\n",
    "from pathlib import Path\n",
    "\n",
    "import numpy as np\n",
    "import pandas as pd\n",
    "from torch.nn import ReLU\n",
    "from torch_geometric.nn import GCNConv"
   ]
  },
  {
   "cell_type": "code",
   "execution_count": 2,
   "id": "90c79243",
   "metadata": {},
   "outputs": [],
   "source": [
    "# NOTE: Boilerplate setup for Jupyter imports\n",
    "sys.path.append(Path(os.getcwd()).parent.as_posix())\n",
    "\n",
    "import configs as config_module\n",
    "import enhancer as enhancer_module\n",
    "import encoders as encoders_module\n",
    "import scheme.network as network_module\n",
    "import scheme.data as data_module\n",
    "from scheme.network import GNNConfig\n",
    "\n",
    "reload(config_module)\n",
    "reload(enhancer_module)\n",
    "reload(encoders_module)\n",
    "reload(network_module)\n",
    "reload(data_module)\n",
    "\n",
    "PathConfig, TrainConfig = config_module.PathConfig, config_module.TrainConfig\n",
    "Enhancer = enhancer_module.Enhancer\n",
    "get_default_encoders = encoders_module.get_default_encoders\n",
    "GNNConfig, EnhancerData = network_module.GNNConfig, data_module.EnhancerData"
   ]
  },
  {
   "cell_type": "code",
   "execution_count": 3,
   "id": "2fa6c173",
   "metadata": {},
   "outputs": [],
   "source": [
    "path_config = PathConfig(\n",
    "    data_dir=\"../../data\"\n",
    ")\n",
    "\n",
    "with open(path_config.target_data, \"rb\") as f:\n",
    "    unpacked = np.load(f)\n",
    "\n",
    "    # NOTE: Target dimensions\n",
    "    data = EnhancerData(\n",
    "        unpacked[\"data\"],\n",
    "        unpacked[\"target\"].reshape(-1),\n",
    "        unpacked[\"spatial\"],\n",
    "    )"
   ]
  },
  {
   "cell_type": "code",
   "execution_count": 4,
   "id": "86b592c2",
   "metadata": {},
   "outputs": [],
   "source": [
    "gnn_config = GNNConfig(\n",
    "    activation=ReLU,\n",
    "    activation_args={},\n",
    "\n",
    "    conv_operator=GCNConv,\n",
    "    conv_args={ },\n",
    "\n",
    "    encoder_scheme=[data.features.shape[1], 256, 256],\n",
    "    estimator_scheme=[128, 128, np.unique(data.target).shape[0]],\n",
    ")"
   ]
  },
  {
   "cell_type": "code",
   "execution_count": 5,
   "id": "e316d236",
   "metadata": {},
   "outputs": [
    {
     "name": "stdout",
     "output_type": "stream",
     "text": [
      "cora_dist test: Loss = 1.3343e+00 | Accuracy = 0.7158671586715867\n",
      "cora_repr test: Loss = 1.5959e+00 | Accuracy = 0.44649446494464945\n",
      "DistEncoder test: Loss = 1.2298e+00 | Accuracy = 0.6568265682656826\n",
      "ReprEncoder test: Loss = 1.5955e+00 | Accuracy = 0.43911439114391143\n"
     ]
    }
   ],
   "source": [
    "encoders = [\n",
    "    encoders_module.DistEncoder(\n",
    "        max_dist=5,\n",
    "        cache_dir=path_config.edge_cache,\n",
    "        note=\"cora_dist\",\n",
    "    ),\n",
    "    encoders_module.ReprEncoder(\n",
    "        neighbor_rate=0.7,\n",
    "        cache_dir=path_config.edge_cache,\n",
    "        note=\"cora_repr\",\n",
    "    ),\n",
    "]\n",
    "\n",
    "result = Enhancer.compare_builders(data, gnn_config, encoders)"
   ]
  },
  {
   "cell_type": "code",
   "execution_count": 6,
   "id": "17cb4067",
   "metadata": {},
   "outputs": [
    {
     "name": "stdout",
     "output_type": "stream",
     "text": [
      "Option         accuracy_score    f1_score\n",
      "-----------  ----------------  ----------\n",
      "cora_dist            0.715867    0.694208\n",
      "cora_repr            0.446494    0.349414\n",
      "DistEncoder          0.656827    0.647604\n",
      "ReprEncoder          0.439114    0.331533\n"
     ]
    }
   ],
   "source": [
    "print(result)"
   ]
  },
  {
   "cell_type": "code",
   "execution_count": 7,
   "id": "42cab25e",
   "metadata": {},
   "outputs": [],
   "source": [
    "enhancer = Enhancer(\n",
    "    net_config=GNNConfig(\n",
    "        activation=ReLU,\n",
    "        activation_args={},\n",
    "\n",
    "        conv_operator=GCNConv,\n",
    "        conv_args={ },\n",
    "\n",
    "        encoder_scheme=[data.features.shape[1], 256, 256],\n",
    "        estimator_scheme=[128, 128, np.unique(data.target).shape[0]],\n",
    "    ),\n",
    "    edge_builder=encoders_module.DistEncoder(\n",
    "        max_dist=5,\n",
    "        cache_dir=path_config.edge_cache,\n",
    "        note=\"cora_dist [max dist = 5]\",\n",
    "    ),\n",
    ")"
   ]
  },
  {
   "cell_type": "code",
   "execution_count": 8,
   "id": "05407b11",
   "metadata": {},
   "outputs": [],
   "source": [
    "gnn = enhancer.fit(data)"
   ]
  },
  {
   "cell_type": "code",
   "execution_count": 12,
   "id": "40df89fc",
   "metadata": {},
   "outputs": [
    {
     "data": {
      "text/plain": [
       "tensor([[-0.3291,  0.4623, -0.1789,  ...,  0.2966, -0.2652,  0.0371],\n",
       "        [ 0.1810,  1.6030, -0.5669,  ...,  0.4732, -0.6694,  0.4383],\n",
       "        [-0.0119,  1.2705, -0.1835,  ...,  0.3604, -0.5643,  0.2236],\n",
       "        ...,\n",
       "        [ 0.0488,  1.2603,  0.1931,  ...,  0.1997, -0.6257,  0.1899],\n",
       "        [-0.2178,  0.7619,  0.0170,  ...,  0.3220, -0.6603, -0.0411],\n",
       "        [-0.3046,  0.6646,  0.0055,  ...,  0.3031, -0.6487,  0.0435]],\n",
       "       grad_fn=<AddBackward0>)"
      ]
     },
     "execution_count": 12,
     "metadata": {},
     "output_type": "execute_result"
    }
   ],
   "source": [
    "enhancer.transform(data)"
   ]
  },
  {
   "cell_type": "code",
   "execution_count": null,
   "id": "f5c3c5a0",
   "metadata": {},
   "outputs": [],
   "source": []
  }
 ],
 "metadata": {
  "kernelspec": {
   "display_name": "venv",
   "language": "python",
   "name": "python3"
  },
  "language_info": {
   "codemirror_mode": {
    "name": "ipython",
    "version": 3
   },
   "file_extension": ".py",
   "mimetype": "text/x-python",
   "name": "python",
   "nbconvert_exporter": "python",
   "pygments_lexer": "ipython3",
   "version": "3.12.10"
  }
 },
 "nbformat": 4,
 "nbformat_minor": 5
}
