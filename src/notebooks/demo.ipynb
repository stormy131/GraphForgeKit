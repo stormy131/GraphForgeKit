{
 "cells": [
  {
   "cell_type": "code",
   "execution_count": 1,
   "id": "648d3e1f",
   "metadata": {},
   "outputs": [],
   "source": [
    "import os\n",
    "import sys\n",
    "from importlib import reload\n",
    "from pathlib import Path\n",
    "\n",
    "import numpy as np\n",
    "import pandas as pd\n",
    "from torch.nn import ReLU\n",
    "from torch_geometric.nn import GCNConv"
   ]
  },
  {
   "cell_type": "code",
   "execution_count": 2,
   "id": "90c79243",
   "metadata": {},
   "outputs": [],
   "source": [
    "# NOTE: Boilerplate setup for Jupyter imports\n",
    "sys.path.append(Path(os.getcwd()).parent.as_posix())\n",
    "\n",
    "import configs as config_module\n",
    "import enhancer as enhancer_module\n",
    "import encoders as encoders_module\n",
    "import scheme.network as network_module\n",
    "import scheme.data as data_module\n",
    "\n",
    "reload(config_module)\n",
    "reload(enhancer_module)\n",
    "reload(encoders_module)\n",
    "reload(network_module)\n",
    "reload(data_module)\n",
    "\n",
    "PathConfig, TrainConfig = config_module.PathConfig, config_module.TrainConfig\n",
    "Enhancer = enhancer_module.Enhancer\n",
    "get_default_encoders = encoders_module.get_default_encoders\n",
    "GNNConfig, EnhancerData = network_module.GNNConfig, data_module.EnhancerData"
   ]
  },
  {
   "cell_type": "code",
   "execution_count": 3,
   "id": "2fa6c173",
   "metadata": {},
   "outputs": [],
   "source": [
    "path_config = PathConfig(\n",
    "    data_dir=\"../../data\"\n",
    ")\n",
    "\n",
    "with open(path_config.target_data, \"rb\") as f:\n",
    "    unpacked = np.load(f)\n",
    "\n",
    "    # NOTE: Target dimensions\n",
    "    data = EnhancerData(\n",
    "        unpacked[\"data\"],\n",
    "        unpacked[\"target\"].reshape(-1),\n",
    "        unpacked[\"spatial\"],\n",
    "    )"
   ]
  },
  {
   "cell_type": "code",
   "execution_count": 4,
   "id": "86b592c2",
   "metadata": {},
   "outputs": [],
   "source": [
    "gnn_config = GNNConfig(\n",
    "    activation=ReLU,\n",
    "    activation_args={},\n",
    "\n",
    "    conv_operator=GCNConv,\n",
    "    conv_args={ },\n",
    "\n",
    "    encoder_scheme=[data.features.shape[1], 256, 256],\n",
    "    estimator_scheme=[128, 128, np.unique(data.target).shape[0]],\n",
    ")"
   ]
  },
  {
   "cell_type": "code",
   "execution_count": 5,
   "id": "e316d236",
   "metadata": {},
   "outputs": [
    {
     "name": "stdout",
     "output_type": "stream",
     "text": [
      "cora_dist test: Loss = 1.5415e+00 | Accuracy = 0.6715867158671587\n",
      "cora_repr test: Loss = 1.6239e+00 | Accuracy = 0.4280442804428044\n",
      "DistEncoder test: Loss = 1.3142e+00 | Accuracy = 0.6715867158671587\n",
      "ReprEncoder test: Loss = 1.6194e+00 | Accuracy = 0.4280442804428044\n"
     ]
    }
   ],
   "source": [
    "encoders = [\n",
    "    encoders_module.DistEncoder(\n",
    "        max_dist=5,\n",
    "        cache_dir=path_config.edge_cache,\n",
    "        note=\"cora_dist\",\n",
    "    ),\n",
    "    encoders_module.ReprEncoder(\n",
    "        neighbor_rate=0.7,\n",
    "        cache_dir=path_config.edge_cache,\n",
    "        note=\"cora_repr\",\n",
    "    ),\n",
    "]\n",
    "\n",
    "result = Enhancer.compare_builders(data, gnn_config, encoders)"
   ]
  },
  {
   "cell_type": "code",
   "execution_count": 6,
   "id": "17cb4067",
   "metadata": {},
   "outputs": [
    {
     "name": "stdout",
     "output_type": "stream",
     "text": [
      "Option         accuracy_score    f1_score\n",
      "-----------  ----------------  ----------\n",
      "cora_dist            0.671587    0.643595\n",
      "cora_repr            0.428044    0.333933\n",
      "DistEncoder          0.671587    0.644066\n",
      "ReprEncoder          0.428044    0.321041\n"
     ]
    }
   ],
   "source": [
    "print(result)"
   ]
  },
  {
   "cell_type": "code",
   "execution_count": null,
   "id": "474a9184",
   "metadata": {},
   "outputs": [],
   "source": []
  }
 ],
 "metadata": {
  "kernelspec": {
   "display_name": "venv",
   "language": "python",
   "name": "python3"
  },
  "language_info": {
   "codemirror_mode": {
    "name": "ipython",
    "version": 3
   },
   "file_extension": ".py",
   "mimetype": "text/x-python",
   "name": "python",
   "nbconvert_exporter": "python",
   "pygments_lexer": "ipython3",
   "version": "3.12.9"
  }
 },
 "nbformat": 4,
 "nbformat_minor": 5
}
