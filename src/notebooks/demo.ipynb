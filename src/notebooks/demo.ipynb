{
 "cells": [
  {
   "cell_type": "code",
   "execution_count": 4,
   "id": "648d3e1f",
   "metadata": {},
   "outputs": [],
   "source": [
    "import os\n",
    "import sys\n",
    "from importlib import reload\n",
    "from pathlib import Path\n",
    "\n",
    "import numpy as np\n",
    "from torch.nn import ReLU, Linear\n",
    "from torch_geometric.nn import GCNConv"
   ]
  },
  {
   "cell_type": "code",
   "execution_count": 5,
   "id": "90c79243",
   "metadata": {},
   "outputs": [],
   "source": [
    "# NOTE: Boilerplate setup for Jupyter imports\n",
    "sys.path.append(Path(os.getcwd()).parent.as_posix())\n",
    "\n",
    "import configs as config_module\n",
    "import enhancer as enhancer_module\n",
    "import encoders as encoders_module\n",
    "import scheme.network as network_module\n",
    "import scheme.data as data_module\n",
    "\n",
    "reload(config_module)\n",
    "reload(enhancer_module)\n",
    "reload(encoders_module)\n",
    "reload(network_module)\n",
    "reload(data_module)\n",
    "\n",
    "PathConfig, TrainConfig = config_module.PathConfig, config_module.TrainConfig\n",
    "Enhancer = enhancer_module.Enhancer\n",
    "get_default_encoders = encoders_module.get_default_encoders\n",
    "GNNConfig, EnhancerData = network_module.NetworkConfig, data_module.EnhancerData"
   ]
  },
  {
   "cell_type": "code",
   "execution_count": 6,
   "id": "2fa6c173",
   "metadata": {},
   "outputs": [],
   "source": [
    "path_config = PathConfig(\n",
    "    data_dir=\"../../data\"\n",
    ")\n",
    "\n",
    "with open(path_config.target_data, \"rb\") as f:\n",
    "    unpacked = np.load(f)\n",
    "\n",
    "    # NOTE: Target dimensions\n",
    "    data = EnhancerData(\n",
    "        unpacked[\"data\"],\n",
    "        unpacked[\"target\"].reshape(-1),\n",
    "        unpacked[\"spatial\"],\n",
    "    )"
   ]
  },
  {
   "cell_type": "code",
   "execution_count": 7,
   "id": "86b592c2",
   "metadata": {},
   "outputs": [],
   "source": [
    "gnn_setup = GNNConfig(\n",
    "    encoder=[\n",
    "        GCNConv(data.features.shape[1], 256),\n",
    "        GCNConv(256, 256),\n",
    "    ],\n",
    "    estimator=[\n",
    "        Linear(256, 128),\n",
    "        ReLU(),\n",
    "        Linear(128, 128),\n",
    "        ReLU(),\n",
    "        Linear(128, len(np.unique(data.target))),\n",
    "    ]\n",
    ")"
   ]
  },
  {
   "cell_type": "code",
   "execution_count": 9,
   "id": "e316d236",
   "metadata": {},
   "outputs": [
    {
     "name": "stdout",
     "output_type": "stream",
     "text": [
      "cora_dist test: Loss = 1.0856e+00 | Accuracy = 0.7195571955719557\n",
      "cora_repr test: Loss = 1.4991e+00 | Accuracy = 0.41697416974169743\n",
      "DistEncoder test: Loss = 1.0283e+00 | Accuracy = 0.6715867158671587\n",
      "ReprEncoder test: Loss = 1.4701e+00 | Accuracy = 0.4354243542435424\n"
     ]
    }
   ],
   "source": [
    "encoders = [\n",
    "    encoders_module.DistEncoder(\n",
    "        max_dist=5,\n",
    "        cache_dir=path_config.edge_cache,\n",
    "        note=\"cora_dist\",\n",
    "    ),\n",
    "    encoders_module.ReprEncoder(\n",
    "        neighbor_rate=0.7,\n",
    "        cache_dir=path_config.edge_cache,\n",
    "        note=\"cora_repr\",\n",
    "    ),\n",
    "]\n",
    "\n",
    "result = Enhancer.compare_builders(data, gnn_setup, encoders)"
   ]
  },
  {
   "cell_type": "code",
   "execution_count": 10,
   "id": "17cb4067",
   "metadata": {},
   "outputs": [
    {
     "name": "stdout",
     "output_type": "stream",
     "text": [
      "Option         accuracy_score    f1_score\n",
      "-----------  ----------------  ----------\n",
      "cora_dist            0.719557    0.713762\n",
      "cora_repr            0.416974    0.398919\n",
      "DistEncoder          0.671587    0.687473\n",
      "ReprEncoder          0.435424    0.429701\n"
     ]
    }
   ],
   "source": [
    "print(result)"
   ]
  },
  {
   "cell_type": "code",
   "execution_count": 11,
   "id": "42cab25e",
   "metadata": {},
   "outputs": [],
   "source": [
    "enhancer = Enhancer(\n",
    "    net_config=gnn_setup,\n",
    "    edge_builder=encoders_module.DistEncoder(\n",
    "        max_dist=5,\n",
    "        cache_dir=path_config.edge_cache,\n",
    "        note=\"cora_dist [max dist = 5]\",\n",
    "    ),\n",
    ")"
   ]
  },
  {
   "cell_type": "code",
   "execution_count": 12,
   "id": "05407b11",
   "metadata": {},
   "outputs": [],
   "source": [
    "gnn = enhancer.fit(data)"
   ]
  },
  {
   "cell_type": "code",
   "execution_count": 13,
   "id": "40df89fc",
   "metadata": {},
   "outputs": [
    {
     "data": {
      "text/plain": [
       "tensor([[ 0.1206, -0.4277,  0.2256,  ...,  0.4005, -0.4371,  0.3329],\n",
       "        [ 0.3792, -0.2805,  0.1656,  ...,  0.1598, -0.9276,  0.6825],\n",
       "        [ 0.5515,  0.2715, -0.2174,  ...,  0.0725, -1.0501,  0.7025],\n",
       "        ...,\n",
       "        [ 0.4890, -0.5761, -0.2172,  ...,  0.3201, -1.1752,  1.1274],\n",
       "        [ 0.2367, -0.3104,  0.0287,  ...,  0.1513, -0.8360,  0.6601],\n",
       "        [ 0.2236, -0.5275,  0.2437,  ...,  0.2015, -0.7797,  0.5615]],\n",
       "       grad_fn=<AddBackward0>)"
      ]
     },
     "execution_count": 13,
     "metadata": {},
     "output_type": "execute_result"
    }
   ],
   "source": [
    "enhancer.transform(data)"
   ]
  },
  {
   "cell_type": "code",
   "execution_count": null,
   "id": "f5c3c5a0",
   "metadata": {},
   "outputs": [],
   "source": []
  }
 ],
 "metadata": {
  "kernelspec": {
   "display_name": "venv",
   "language": "python",
   "name": "python3"
  },
  "language_info": {
   "codemirror_mode": {
    "name": "ipython",
    "version": 3
   },
   "file_extension": ".py",
   "mimetype": "text/x-python",
   "name": "python",
   "nbconvert_exporter": "python",
   "pygments_lexer": "ipython3",
   "version": "3.12.10"
  }
 },
 "nbformat": 4,
 "nbformat_minor": 5
}
