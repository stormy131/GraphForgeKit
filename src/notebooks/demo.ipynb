{
 "cells": [
  {
   "cell_type": "code",
   "execution_count": 4,
   "id": "648d3e1f",
   "metadata": {},
   "outputs": [],
   "source": [
    "import os\n",
    "import sys\n",
    "from importlib import reload\n",
    "from pathlib import Path\n",
    "\n",
    "import numpy as np\n",
    "from torch.nn import ReLU, Linear\n",
    "from torch_geometric.nn import GCNConv"
   ]
  },
  {
   "cell_type": "code",
   "execution_count": 5,
   "id": "90c79243",
   "metadata": {},
   "outputs": [],
   "source": [
    "# NOTE: Boilerplate setup for Jupyter imports\n",
    "sys.path.append(Path(os.getcwd()).parent.as_posix())\n",
    "\n",
    "import configs as config_module\n",
    "import enhancer as enhancer_module\n",
    "import encoders as encoders_module\n",
    "import scheme.network as network_module\n",
    "import scheme.data as data_module\n",
    "\n",
    "reload(config_module)\n",
    "reload(enhancer_module)\n",
    "reload(encoders_module)\n",
    "reload(network_module)\n",
    "reload(data_module)\n",
    "\n",
    "PathConfig, TrainConfig = config_module.PathConfig, config_module.TrainConfig\n",
    "Enhancer = enhancer_module.Enhancer\n",
    "get_default_encoders = encoders_module.get_default_encoders\n",
    "GNNConfig, EnhancerData = network_module.NetworkConfig, data_module.EnhancerData"
   ]
  },
  {
   "cell_type": "code",
   "execution_count": 6,
   "id": "2fa6c173",
   "metadata": {},
   "outputs": [],
   "source": [
    "path_config = PathConfig(\n",
    "    data_dir=\"../../data\"\n",
    ")\n",
    "\n",
    "with open(path_config.data_root / \"processed/cora.npz\", \"rb\") as f:\n",
    "    unpacked = np.load(f)\n",
    "\n",
    "    # NOTE: Target dimensions\n",
    "    data = EnhancerData(\n",
    "        unpacked[\"data\"],\n",
    "        unpacked[\"target\"].reshape(-1),\n",
    "        unpacked[\"spatial\"],\n",
    "    )"
   ]
  },
  {
   "cell_type": "code",
   "execution_count": 7,
   "id": "86b592c2",
   "metadata": {},
   "outputs": [],
   "source": [
    "gnn_setup = GNNConfig(\n",
    "    encoder=[\n",
    "        GCNConv(data.features.shape[1], 256),\n",
    "        GCNConv(256, 256),\n",
    "    ],\n",
    "    estimator=[\n",
    "        Linear(256, 128),\n",
    "        ReLU(),\n",
    "        Linear(128, 128),\n",
    "        ReLU(),\n",
    "        Linear(128, len(np.unique(data.target))),\n",
    "    ]\n",
    ")"
   ]
  },
  {
   "cell_type": "code",
   "execution_count": 8,
   "id": "e316d236",
   "metadata": {},
   "outputs": [
    {
     "name": "stdout",
     "output_type": "stream",
     "text": [
      "cora_dist test: Loss = 1.4003e+00 | Accuracy = 0.7121771217712177\n",
      "cora_repr test: Loss = 1.4898e+00 | Accuracy = 0.4612546125461255\n",
      "DistEncoder test: Loss = 1.4317e+00 | Accuracy = 0.6531365313653137\n",
      "ReprEncoder test: Loss = 1.5130e+00 | Accuracy = 0.43911439114391143\n"
     ]
    }
   ],
   "source": [
    "encoders = [\n",
    "    encoders_module.DistEncoder(\n",
    "        max_dist=5,\n",
    "        cache_dir=path_config.edge_cache,\n",
    "        note=\"cora_dist\",\n",
    "    ),\n",
    "    encoders_module.ReprEncoder(\n",
    "        neighbor_rate=0.7,\n",
    "        cache_dir=path_config.edge_cache,\n",
    "        note=\"cora_repr\",\n",
    "    ),\n",
    "]\n",
    "\n",
    "result = Enhancer.compare_builders(data, gnn_setup, encoders)"
   ]
  },
  {
   "cell_type": "code",
   "execution_count": 9,
   "id": "17cb4067",
   "metadata": {},
   "outputs": [
    {
     "name": "stdout",
     "output_type": "stream",
     "text": [
      "Option         accuracy_score    f1_score\n",
      "-----------  ----------------  ----------\n",
      "cora_dist            0.712177    0.659564\n",
      "cora_repr            0.461255    0.365716\n",
      "DistEncoder          0.653137    0.592432\n",
      "ReprEncoder          0.439114    0.346177\n"
     ]
    }
   ],
   "source": [
    "print(result)"
   ]
  },
  {
   "cell_type": "code",
   "execution_count": 10,
   "id": "42cab25e",
   "metadata": {},
   "outputs": [],
   "source": [
    "enhancer = Enhancer(\n",
    "    net_config=gnn_setup,\n",
    "    edge_builder=encoders_module.DistEncoder(\n",
    "        max_dist=5,\n",
    "        cache_dir=path_config.edge_cache,\n",
    "        note=\"cora_dist [max dist = 5]\",\n",
    "    ),\n",
    ")"
   ]
  },
  {
   "cell_type": "code",
   "execution_count": 11,
   "id": "05407b11",
   "metadata": {},
   "outputs": [],
   "source": [
    "gnn = enhancer.fit(data)"
   ]
  },
  {
   "cell_type": "code",
   "execution_count": 12,
   "id": "40df89fc",
   "metadata": {},
   "outputs": [
    {
     "data": {
      "text/plain": [
       "tensor([[-0.0473,  0.3497, -0.0536,  ..., -0.7110,  0.1269, -0.1221],\n",
       "        [-0.2279, -0.2066, -0.1728,  ..., -0.3087, -0.2231,  0.3358],\n",
       "        [-0.4179, -0.4198, -0.1217,  ..., -0.5019, -0.2199,  0.2649],\n",
       "        ...,\n",
       "        [-0.0457,  0.1450,  0.3061,  ..., -1.2240, -0.0355,  0.0135],\n",
       "        [ 0.0207,  0.1969, -0.0421,  ..., -0.5167, -0.2202, -0.1670],\n",
       "        [-0.1874,  0.0948,  0.1206,  ..., -0.5581, -0.0809,  0.0260]],\n",
       "       grad_fn=<AddBackward0>)"
      ]
     },
     "execution_count": 12,
     "metadata": {},
     "output_type": "execute_result"
    }
   ],
   "source": [
    "enhancer.transform(data)"
   ]
  },
  {
   "cell_type": "code",
   "execution_count": null,
   "id": "f5c3c5a0",
   "metadata": {},
   "outputs": [],
   "source": []
  }
 ],
 "metadata": {
  "kernelspec": {
   "display_name": "venv",
   "language": "python",
   "name": "python3"
  },
  "language_info": {
   "codemirror_mode": {
    "name": "ipython",
    "version": 3
   },
   "file_extension": ".py",
   "mimetype": "text/x-python",
   "name": "python",
   "nbconvert_exporter": "python",
   "pygments_lexer": "ipython3",
   "version": "3.12.10"
  }
 },
 "nbformat": 4,
 "nbformat_minor": 5
}
