{
 "cells": [
  {
   "cell_type": "code",
   "execution_count": 1,
   "id": "b7ac4e6b",
   "metadata": {},
   "outputs": [],
   "source": [
    "import os\n",
    "import sys\n",
    "from importlib import reload\n",
    "from pathlib import Path\n",
    "\n",
    "import numpy as np\n",
    "from torch.nn import ReLU, Linear\n",
    "from torch_geometric.nn import GCNConv"
   ]
  },
  {
   "cell_type": "code",
   "execution_count": 2,
   "id": "0c4bf069",
   "metadata": {},
   "outputs": [],
   "source": [
    "# NOTE: Boilerplate setup for Jupyter imports\n",
    "\n",
    "root = Path(os.getcwd()).parent\n",
    "sys.path.append(\n",
    "    (root / \"src\").as_posix()\n",
    ")\n",
    "\n",
    "import configs as config_module\n",
    "import enhancer as enhancer_module\n",
    "import strategies as encoders_module\n",
    "import schema.task as edges_module\n",
    "import schema.network as network_module\n",
    "import schema.data as data_module\n",
    "import utils.metrics as utils_module\n",
    "\n",
    "reload(edges_module)\n",
    "reload(config_module)\n",
    "reload(enhancer_module)\n",
    "reload(encoders_module)\n",
    "reload(network_module)\n",
    "reload(data_module)\n",
    "reload(utils_module)\n",
    "\n",
    "PathConfig, TrainConfig = config_module.PathConfig, config_module.TrainConfig\n",
    "Enhancer = enhancer_module.Enhancer\n",
    "get_default_encoders = encoders_module.get_default_encoders\n",
    "NetworkConfig, EnhancerData = network_module.NetworkConfig, data_module.EnhancerData\n",
    "Task = edges_module.Task\n",
    "euclid_metric, haversine_metric = utils_module.euclid_dist, utils_module.haversine_dist\n",
    "TrainConfig = config_module.TrainConfig"
   ]
  },
  {
   "cell_type": "code",
   "execution_count": 4,
   "id": "047e3263",
   "metadata": {},
   "outputs": [],
   "source": [
    "from torch import from_numpy\n",
    "from torch_geometric.nn import SAGEConv\n",
    "from utils.metrics import euclid_dist\n",
    "from sklearn.metrics import mean_squared_error\n",
    "\n",
    "path_config = PathConfig(data_root=\"../data\")\n",
    "path_config.target_data = path_config.data_root / \"processed/np/melbourne.npz\"\n",
    "with open(path_config.target_data, \"rb\") as f:\n",
    "    unpacked = np.load(f)\n",
    "\n",
    "    # NOTE: Target dimensions\n",
    "    data = EnhancerData(\n",
    "        from_numpy(unpacked[\"data\"]     .astype(np.float32)),\n",
    "        from_numpy(unpacked[\"target\"]   .astype(np.float32)),\n",
    "        from_numpy(unpacked[\"spatial\"]  .astype(np.float32)),\n",
    "    )"
   ]
  },
  {
   "cell_type": "code",
   "execution_count": 5,
   "id": "e1703017",
   "metadata": {},
   "outputs": [],
   "source": [
    "train_config = TrainConfig()\n",
    "\n",
    "gnn_setup = NetworkConfig(\n",
    "    encoder=[\n",
    "        SAGEConv(data.features.shape[1], 256),\n",
    "        SAGEConv(256, 256),\n",
    "    ],\n",
    "    estimator=[\n",
    "        Linear(256, 128),\n",
    "        ReLU(),\n",
    "        Linear(128, 128),\n",
    "        ReLU(),\n",
    "        Linear(128, 1),\n",
    "    ]\n",
    ")"
   ]
  },
  {
   "cell_type": "code",
   "execution_count": 6,
   "id": "c01664af",
   "metadata": {},
   "outputs": [],
   "source": [
    "knn_strategy = encoders_module.KNNStrategy(\n",
    "    K=5,\n",
    "    dist_metric=euclid_dist,\n",
    "    cache_dir=path_config.edge_cache,\n",
    "    cache_id=\"melbourne_knn\",\n",
    ")\n",
    "\n",
    "threshold_strategy = encoders_module.ThresholdStrategy(\n",
    "    dist_metric=haversine_metric,\n",
    "    max_dist=5,\n",
    "    cache_dir=path_config.edge_cache,\n",
    "    cache_id=\"melbourne_threshold\",\n",
    ")\n",
    "\n",
    "input_strategies = [\n",
    "    Task(knn_strategy, data),\n",
    "    Task(threshold_strategy, data),\n",
    "]"
   ]
  },
  {
   "cell_type": "code",
   "execution_count": 8,
   "id": "eb11cd93",
   "metadata": {},
   "outputs": [
    {
     "ename": "ValueError",
     "evalue": "Signature for first module required",
     "output_type": "error",
     "traceback": [
      "\u001b[31m---------------------------------------------------------------------------\u001b[39m",
      "\u001b[31mValueError\u001b[39m                                Traceback (most recent call last)",
      "\u001b[36mCell\u001b[39m\u001b[36m \u001b[39m\u001b[32mIn[8]\u001b[39m\u001b[32m, line 1\u001b[39m\n\u001b[32m----> \u001b[39m\u001b[32m1\u001b[39m result = \u001b[43mEnhancer\u001b[49m\u001b[43m.\u001b[49m\u001b[43mprocess_tasks\u001b[49m\u001b[43m(\u001b[49m\u001b[43mgnn_setup\u001b[49m\u001b[43m,\u001b[49m\u001b[43m \u001b[49m\u001b[43mtrain_config\u001b[49m\u001b[43m,\u001b[49m\u001b[43m \u001b[49m\u001b[43minput_strategies\u001b[49m\u001b[43m)\u001b[49m\n",
      "\u001b[36mFile \u001b[39m\u001b[32m/afs/ms.mff.cuni.cz/u/k/kopyla/kopyl2024/src/enhancer.py:83\u001b[39m, in \u001b[36mEnhancer.process_tasks\u001b[39m\u001b[34m(cls, gnn_config, train_config, tasks)\u001b[39m\n\u001b[32m     81\u001b[39m \u001b[38;5;28;01mfor\u001b[39;00m strategy, data \u001b[38;5;129;01min\u001b[39;00m tasks:\n\u001b[32m     82\u001b[39m     \u001b[38;5;28mself\u001b[39m = \u001b[38;5;28mcls\u001b[39m(gnn_config, train_config, strategy)\n\u001b[32m---> \u001b[39m\u001b[32m83\u001b[39m     gnn, graph = \u001b[38;5;28;43mself\u001b[39;49m\u001b[43m.\u001b[49m\u001b[43mfit\u001b[49m\u001b[43m(\u001b[49m\u001b[43mdata\u001b[49m\u001b[43m,\u001b[49m\u001b[43m \u001b[49m\u001b[43mverbose\u001b[49m\u001b[43m=\u001b[49m\u001b[38;5;28;43;01mFalse\u001b[39;49;00m\u001b[43m)\u001b[49m\n\u001b[32m     85\u001b[39m     generated_edges = graph.edge_index\n\u001b[32m     86\u001b[39m     test_graph = graph.subgraph(graph.test_mask)\n",
      "\u001b[36mFile \u001b[39m\u001b[32m/afs/ms.mff.cuni.cz/u/k/kopyla/kopyl2024/src/enhancer.py:31\u001b[39m, in \u001b[36mEnhancer.fit\u001b[39m\u001b[34m(self, data, verbose)\u001b[39m\n\u001b[32m     30\u001b[39m \u001b[38;5;28;01mdef\u001b[39;00m\u001b[38;5;250m \u001b[39m\u001b[34mfit\u001b[39m(\u001b[38;5;28mself\u001b[39m, data: EnhancerData, *, verbose: \u001b[38;5;28mbool\u001b[39m = \u001b[38;5;28;01mFalse\u001b[39;00m) -> \u001b[38;5;28mtuple\u001b[39m[GNN, GeomData]:\n\u001b[32m---> \u001b[39m\u001b[32m31\u001b[39m     gnn = \u001b[43mGNN\u001b[49m\u001b[43m(\u001b[49m\u001b[38;5;28;43mself\u001b[39;49m\u001b[43m.\u001b[49m\u001b[43m_gnn_config\u001b[49m\u001b[43m,\u001b[49m\u001b[43m \u001b[49m\u001b[38;5;28;43mself\u001b[39;49m\u001b[43m.\u001b[49m\u001b[43m_train_config\u001b[49m\u001b[43m)\u001b[49m\n\u001b[32m     32\u001b[39m     edges = Enhancer._build_edges(data.spatial, \u001b[38;5;28mself\u001b[39m._edge_strategy)\n\u001b[32m     34\u001b[39m     graph = Enhancer._setup_data(data.features, data.target, edges)\n",
      "\u001b[36mFile \u001b[39m\u001b[32m/afs/ms.mff.cuni.cz/u/k/kopyla/kopyl2024/src/gnn/_gnn.py:21\u001b[39m, in \u001b[36mGNN.__init__\u001b[39m\u001b[34m(self, gnn_config, train_config)\u001b[39m\n\u001b[32m     18\u001b[39m \u001b[38;5;28mself\u001b[39m._gnn_config = gnn_config\n\u001b[32m     19\u001b[39m \u001b[38;5;28mself\u001b[39m._train_config = train_config\n\u001b[32m---> \u001b[39m\u001b[32m21\u001b[39m \u001b[38;5;28mself\u001b[39m._encoder = \u001b[43mGraphConvEncoder\u001b[49m\u001b[43m(\u001b[49m\u001b[43mgnn_config\u001b[49m\u001b[43m.\u001b[49m\u001b[43mencoder\u001b[49m\u001b[43m)\u001b[49m\n\u001b[32m     22\u001b[39m \u001b[38;5;28mself\u001b[39m._gnn = GeomSequential(\n\u001b[32m     23\u001b[39m     \u001b[33m\"\u001b[39m\u001b[33mx, edge_index\u001b[39m\u001b[33m\"\u001b[39m,\n\u001b[32m     24\u001b[39m     [(\u001b[38;5;28mself\u001b[39m._encoder, \u001b[33m\"\u001b[39m\u001b[33mx, edge_index -> x\u001b[39m\u001b[33m\"\u001b[39m)] + gnn_config.estimator,\n\u001b[32m     25\u001b[39m )\n",
      "\u001b[36mFile \u001b[39m\u001b[32m/afs/ms.mff.cuni.cz/u/k/kopyla/kopyl2024/src/gnn/_encoder.py:9\u001b[39m, in \u001b[36mGraphConvEncoder.__init__\u001b[39m\u001b[34m(self, encoder_layers)\u001b[39m\n\u001b[32m      7\u001b[39m \u001b[38;5;28;01mdef\u001b[39;00m\u001b[38;5;250m \u001b[39m\u001b[34m__init__\u001b[39m(\u001b[38;5;28mself\u001b[39m, encoder_layers: \u001b[38;5;28mlist\u001b[39m[Module]):\n\u001b[32m      8\u001b[39m     \u001b[38;5;28msuper\u001b[39m().\u001b[34m__init__\u001b[39m()\n\u001b[32m----> \u001b[39m\u001b[32m9\u001b[39m     \u001b[38;5;28mself\u001b[39m.encoder = \u001b[43mGeomSequential\u001b[49m\u001b[43m(\u001b[49m\u001b[33;43m\"\u001b[39;49m\u001b[33;43mx, edge_index\u001b[39;49m\u001b[33;43m\"\u001b[39;49m\u001b[43m,\u001b[49m\u001b[43m \u001b[49m\u001b[43mencoder_layers\u001b[49m\u001b[43m)\u001b[49m\n",
      "\u001b[36mFile \u001b[39m\u001b[32m~/kopyl2024/venv/lib/python3.12/site-packages/torch_geometric/nn/sequential.py:161\u001b[39m, in \u001b[36mSequential.__init__\u001b[39m\u001b[34m(self, input_args, modules)\u001b[39m\n\u001b[32m    157\u001b[39m         \u001b[38;5;28;01mraise\u001b[39;00m \u001b[38;5;167;01mValueError\u001b[39;00m(\u001b[33mf\u001b[39m\u001b[33m\"\u001b[39m\u001b[33mExpected tuple of length 2 \u001b[39m\u001b[33m\"\u001b[39m\n\u001b[32m    158\u001b[39m                          \u001b[33mf\u001b[39m\u001b[33m\"\u001b[39m\u001b[33m(got \u001b[39m\u001b[38;5;132;01m{\u001b[39;00mmodule\u001b[38;5;132;01m}\u001b[39;00m\u001b[33m)\u001b[39m\u001b[33m\"\u001b[39m)\n\u001b[32m    160\u001b[39m \u001b[38;5;28;01mif\u001b[39;00m i == \u001b[32m0\u001b[39m \u001b[38;5;129;01mand\u001b[39;00m desc \u001b[38;5;129;01mis\u001b[39;00m \u001b[38;5;28;01mNone\u001b[39;00m:\n\u001b[32m--> \u001b[39m\u001b[32m161\u001b[39m     \u001b[38;5;28;01mraise\u001b[39;00m \u001b[38;5;167;01mValueError\u001b[39;00m(\u001b[33m\"\u001b[39m\u001b[33mSignature for first module required\u001b[39m\u001b[33m\"\u001b[39m)\n\u001b[32m    162\u001b[39m \u001b[38;5;28;01mif\u001b[39;00m \u001b[38;5;129;01mnot\u001b[39;00m \u001b[38;5;28mcallable\u001b[39m(module):\n\u001b[32m    163\u001b[39m     \u001b[38;5;28;01mraise\u001b[39;00m \u001b[38;5;167;01mValueError\u001b[39;00m(\u001b[33mf\u001b[39m\u001b[33m\"\u001b[39m\u001b[33mExpected callable module (got \u001b[39m\u001b[38;5;132;01m{\u001b[39;00mmodule\u001b[38;5;132;01m}\u001b[39;00m\u001b[33m)\u001b[39m\u001b[33m\"\u001b[39m)\n",
      "\u001b[31mValueError\u001b[39m: Signature for first module required"
     ]
    }
   ],
   "source": [
    "result = Enhancer.process_tasks(gnn_setup, train_config, input_strategies)"
   ]
  },
  {
   "cell_type": "code",
   "execution_count": 7,
   "id": "83657ead",
   "metadata": {},
   "outputs": [
    {
     "name": "stdout",
     "output_type": "stream",
     "text": [
      "Option           mean_squared_error      density    average degree    n connected components    largest component\n",
      "-------------  --------------------  -----------  ----------------  ------------------------  -------------------\n",
      "melbourne_knn           1.12104e+12  0.000322345           6.21031                        25                17602\n"
     ]
    }
   ],
   "source": [
    "print(result.get_comparison([mean_squared_error]))"
   ]
  },
  {
   "cell_type": "code",
   "execution_count": 8,
   "id": "8523f29d",
   "metadata": {},
   "outputs": [],
   "source": [
    "enhancer = Enhancer(\n",
    "    gnn_setup, train_config, knn_strategy\n",
    ")"
   ]
  },
  {
   "cell_type": "code",
   "execution_count": null,
   "id": "4051b14e",
   "metadata": {},
   "outputs": [
    {
     "name": "stderr",
     "output_type": "stream",
     "text": [
      "GNN training: 100%|██████████| 10/10 [00:11<00:00,  1.14s/epoch, loss=1.87e+11]\n"
     ]
    }
   ],
   "source": [
    "gnn, _ = enhancer.fit(data)\n",
    "transformed_data = enhancer.transform(data)"
   ]
  },
  {
   "cell_type": "code",
   "execution_count": 10,
   "id": "abb893b1",
   "metadata": {},
   "outputs": [],
   "source": [
    "edge_index = knn_strategy(data.spatial)"
   ]
  },
  {
   "cell_type": "code",
   "execution_count": 11,
   "id": "1d61966d",
   "metadata": {},
   "outputs": [
    {
     "data": {
      "text/plain": [
       "tensor([[ 960410.3750],\n",
       "        [ 930960.6875],\n",
       "        [1099514.3750],\n",
       "        ...,\n",
       "        [ 789871.6250],\n",
       "        [ 759577.0000],\n",
       "        [ 669541.6875]])"
      ]
     },
     "execution_count": 11,
     "metadata": {},
     "output_type": "execute_result"
    }
   ],
   "source": [
    "gnn.predict(data.features, edge_index)"
   ]
  },
  {
   "cell_type": "code",
   "execution_count": 12,
   "id": "f635ea94",
   "metadata": {},
   "outputs": [
    {
     "data": {
      "text/plain": [
       "(19267, 256)"
      ]
     },
     "execution_count": 12,
     "metadata": {},
     "output_type": "execute_result"
    }
   ],
   "source": [
    "transformed_data.shape"
   ]
  },
  {
   "cell_type": "code",
   "execution_count": null,
   "id": "69ba425f",
   "metadata": {},
   "outputs": [],
   "source": []
  }
 ],
 "metadata": {
  "kernelspec": {
   "display_name": "venv",
   "language": "python",
   "name": "python3"
  },
  "language_info": {
   "codemirror_mode": {
    "name": "ipython",
    "version": 3
   },
   "file_extension": ".py",
   "mimetype": "text/x-python",
   "name": "python",
   "nbconvert_exporter": "python",
   "pygments_lexer": "ipython3",
   "version": "3.12.11"
  }
 },
 "nbformat": 4,
 "nbformat_minor": 5
}
