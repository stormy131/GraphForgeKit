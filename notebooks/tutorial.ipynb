{
 "cells": [
  {
   "cell_type": "code",
   "execution_count": 1,
   "id": "b7ac4e6b",
   "metadata": {},
   "outputs": [],
   "source": [
    "import os\n",
    "import sys\n",
    "from importlib import reload\n",
    "from pathlib import Path\n",
    "\n",
    "import numpy as np\n",
    "from torch.nn import ReLU, Linear\n",
    "from torch_geometric.nn import GCNConv"
   ]
  },
  {
   "cell_type": "code",
   "execution_count": 2,
   "id": "0c4bf069",
   "metadata": {},
   "outputs": [
    {
     "name": "stderr",
     "output_type": "stream",
     "text": [
      "Matplotlib is building the font cache; this may take a moment.\n"
     ]
    }
   ],
   "source": [
    "# NOTE: Boilerplate setup for Jupyter imports\n",
    "\n",
    "root = Path(os.getcwd()).parent\n",
    "sys.path.append(\n",
    "    (root / \"src\").as_posix()\n",
    ")\n",
    "\n",
    "import schema.configs as config_module\n",
    "import enhancer as enhancer_module\n",
    "import strategies as encoders_module\n",
    "import schema.task as edges_module\n",
    "import schema.data as data_module\n",
    "import utils.metrics as utils_module\n",
    "\n",
    "reload(edges_module)\n",
    "reload(config_module)\n",
    "reload(enhancer_module)\n",
    "reload(encoders_module)\n",
    "reload(data_module)\n",
    "reload(utils_module)\n",
    "\n",
    "PathConfig, TrainConfig, NetworkConfig = config_module.PathConfig, config_module.TrainConfig, config_module.NetworkConfig\n",
    "Enhancer = enhancer_module.Enhancer\n",
    "EnhancerData = data_module.EnhancerData\n",
    "Task = edges_module.Task\n",
    "euclid_metric, haversine_metric = utils_module.euclid_dist, utils_module.haversine_dist\n",
    "TrainConfig = config_module.TrainConfig"
   ]
  },
  {
   "cell_type": "code",
   "execution_count": 3,
   "id": "6707ec87",
   "metadata": {},
   "outputs": [],
   "source": [
    "import pandas as pd\n",
    "\n",
    "path_config = PathConfig(data_root=\"../data\")\n",
    "path_config.target_data = path_config.data_root / \"processed/csv/melbourne.csv\"\n",
    "\n",
    "melbourne_df = pd.read_csv(path_config.target_data, header=None)"
   ]
  },
  {
   "cell_type": "code",
   "execution_count": 4,
   "id": "6854037c",
   "metadata": {},
   "outputs": [
    {
     "data": {
      "text/html": [
       "<div>\n",
       "<style scoped>\n",
       "    .dataframe tbody tr th:only-of-type {\n",
       "        vertical-align: middle;\n",
       "    }\n",
       "\n",
       "    .dataframe tbody tr th {\n",
       "        vertical-align: top;\n",
       "    }\n",
       "\n",
       "    .dataframe thead th {\n",
       "        text-align: right;\n",
       "    }\n",
       "</style>\n",
       "<table border=\"1\" class=\"dataframe\">\n",
       "  <thead>\n",
       "    <tr style=\"text-align: right;\">\n",
       "      <th></th>\n",
       "      <th>0</th>\n",
       "      <th>1</th>\n",
       "      <th>2</th>\n",
       "      <th>3</th>\n",
       "      <th>4</th>\n",
       "      <th>5</th>\n",
       "      <th>6</th>\n",
       "      <th>7</th>\n",
       "      <th>8</th>\n",
       "      <th>9</th>\n",
       "      <th>...</th>\n",
       "      <th>11</th>\n",
       "      <th>12</th>\n",
       "      <th>13</th>\n",
       "      <th>14</th>\n",
       "      <th>15</th>\n",
       "      <th>16</th>\n",
       "      <th>17</th>\n",
       "      <th>18</th>\n",
       "      <th>19</th>\n",
       "      <th>20</th>\n",
       "    </tr>\n",
       "  </thead>\n",
       "  <tbody>\n",
       "    <tr>\n",
       "      <th>0</th>\n",
       "      <td>1480000.0</td>\n",
       "      <td>144.99840</td>\n",
       "      <td>-37.79960</td>\n",
       "      <td>-1.126001</td>\n",
       "      <td>-1.384247</td>\n",
       "      <td>-1.123999</td>\n",
       "      <td>-0.868172</td>\n",
       "      <td>-0.764542</td>\n",
       "      <td>-0.585494</td>\n",
       "      <td>-0.813574</td>\n",
       "      <td>...</td>\n",
       "      <td>0.0</td>\n",
       "      <td>0.0</td>\n",
       "      <td>0.0</td>\n",
       "      <td>0.0</td>\n",
       "      <td>1.0</td>\n",
       "      <td>0.0</td>\n",
       "      <td>0.0</td>\n",
       "      <td>0.0</td>\n",
       "      <td>0.0</td>\n",
       "      <td>0.0</td>\n",
       "    </tr>\n",
       "    <tr>\n",
       "      <th>1</th>\n",
       "      <td>1035000.0</td>\n",
       "      <td>144.99340</td>\n",
       "      <td>-37.80790</td>\n",
       "      <td>-1.126001</td>\n",
       "      <td>-1.384247</td>\n",
       "      <td>-1.123999</td>\n",
       "      <td>-0.868172</td>\n",
       "      <td>-1.955939</td>\n",
       "      <td>-0.677778</td>\n",
       "      <td>-0.813574</td>\n",
       "      <td>...</td>\n",
       "      <td>0.0</td>\n",
       "      <td>0.0</td>\n",
       "      <td>0.0</td>\n",
       "      <td>0.0</td>\n",
       "      <td>1.0</td>\n",
       "      <td>0.0</td>\n",
       "      <td>0.0</td>\n",
       "      <td>0.0</td>\n",
       "      <td>0.0</td>\n",
       "      <td>0.0</td>\n",
       "    </tr>\n",
       "    <tr>\n",
       "      <th>2</th>\n",
       "      <td>1465000.0</td>\n",
       "      <td>144.99440</td>\n",
       "      <td>-37.80930</td>\n",
       "      <td>0.005816</td>\n",
       "      <td>-1.384247</td>\n",
       "      <td>0.017537</td>\n",
       "      <td>0.750316</td>\n",
       "      <td>-1.955939</td>\n",
       "      <td>-0.721913</td>\n",
       "      <td>-0.813574</td>\n",
       "      <td>...</td>\n",
       "      <td>0.0</td>\n",
       "      <td>0.0</td>\n",
       "      <td>0.0</td>\n",
       "      <td>0.0</td>\n",
       "      <td>1.0</td>\n",
       "      <td>0.0</td>\n",
       "      <td>0.0</td>\n",
       "      <td>0.0</td>\n",
       "      <td>0.0</td>\n",
       "      <td>0.0</td>\n",
       "    </tr>\n",
       "    <tr>\n",
       "      <th>3</th>\n",
       "      <td>850000.0</td>\n",
       "      <td>144.99690</td>\n",
       "      <td>-37.79690</td>\n",
       "      <td>0.005816</td>\n",
       "      <td>-1.384247</td>\n",
       "      <td>0.017537</td>\n",
       "      <td>0.750316</td>\n",
       "      <td>-0.764542</td>\n",
       "      <td>-0.802159</td>\n",
       "      <td>-0.813574</td>\n",
       "      <td>...</td>\n",
       "      <td>0.0</td>\n",
       "      <td>0.0</td>\n",
       "      <td>0.0</td>\n",
       "      <td>0.0</td>\n",
       "      <td>1.0</td>\n",
       "      <td>0.0</td>\n",
       "      <td>0.0</td>\n",
       "      <td>0.0</td>\n",
       "      <td>0.0</td>\n",
       "      <td>0.0</td>\n",
       "    </tr>\n",
       "    <tr>\n",
       "      <th>4</th>\n",
       "      <td>1600000.0</td>\n",
       "      <td>144.99410</td>\n",
       "      <td>-37.80720</td>\n",
       "      <td>1.137632</td>\n",
       "      <td>-1.384247</td>\n",
       "      <td>0.017537</td>\n",
       "      <td>-0.868172</td>\n",
       "      <td>0.426855</td>\n",
       "      <td>-0.749999</td>\n",
       "      <td>-0.813574</td>\n",
       "      <td>...</td>\n",
       "      <td>0.0</td>\n",
       "      <td>0.0</td>\n",
       "      <td>0.0</td>\n",
       "      <td>0.0</td>\n",
       "      <td>1.0</td>\n",
       "      <td>0.0</td>\n",
       "      <td>0.0</td>\n",
       "      <td>0.0</td>\n",
       "      <td>0.0</td>\n",
       "      <td>0.0</td>\n",
       "    </tr>\n",
       "    <tr>\n",
       "      <th>...</th>\n",
       "      <td>...</td>\n",
       "      <td>...</td>\n",
       "      <td>...</td>\n",
       "      <td>...</td>\n",
       "      <td>...</td>\n",
       "      <td>...</td>\n",
       "      <td>...</td>\n",
       "      <td>...</td>\n",
       "      <td>...</td>\n",
       "      <td>...</td>\n",
       "      <td>...</td>\n",
       "      <td>...</td>\n",
       "      <td>...</td>\n",
       "      <td>...</td>\n",
       "      <td>...</td>\n",
       "      <td>...</td>\n",
       "      <td>...</td>\n",
       "      <td>...</td>\n",
       "      <td>...</td>\n",
       "      <td>...</td>\n",
       "      <td>...</td>\n",
       "    </tr>\n",
       "    <tr>\n",
       "      <th>19262</th>\n",
       "      <td>1101000.0</td>\n",
       "      <td>144.88516</td>\n",
       "      <td>-37.81095</td>\n",
       "      <td>0.005816</td>\n",
       "      <td>-0.758787</td>\n",
       "      <td>0.017537</td>\n",
       "      <td>-0.868172</td>\n",
       "      <td>0.426855</td>\n",
       "      <td>-0.412965</td>\n",
       "      <td>-0.152671</td>\n",
       "      <td>...</td>\n",
       "      <td>0.0</td>\n",
       "      <td>0.0</td>\n",
       "      <td>0.0</td>\n",
       "      <td>0.0</td>\n",
       "      <td>0.0</td>\n",
       "      <td>0.0</td>\n",
       "      <td>0.0</td>\n",
       "      <td>0.0</td>\n",
       "      <td>1.0</td>\n",
       "      <td>0.0</td>\n",
       "    </tr>\n",
       "    <tr>\n",
       "      <th>19263</th>\n",
       "      <td>1480000.0</td>\n",
       "      <td>144.88467</td>\n",
       "      <td>-37.81053</td>\n",
       "      <td>1.137632</td>\n",
       "      <td>-0.758787</td>\n",
       "      <td>1.159074</td>\n",
       "      <td>-0.868172</td>\n",
       "      <td>1.618252</td>\n",
       "      <td>0.198912</td>\n",
       "      <td>-0.152671</td>\n",
       "      <td>...</td>\n",
       "      <td>0.0</td>\n",
       "      <td>0.0</td>\n",
       "      <td>0.0</td>\n",
       "      <td>0.0</td>\n",
       "      <td>0.0</td>\n",
       "      <td>0.0</td>\n",
       "      <td>0.0</td>\n",
       "      <td>0.0</td>\n",
       "      <td>1.0</td>\n",
       "      <td>0.0</td>\n",
       "    </tr>\n",
       "    <tr>\n",
       "      <th>19264</th>\n",
       "      <td>888000.0</td>\n",
       "      <td>144.88826</td>\n",
       "      <td>-37.81551</td>\n",
       "      <td>-1.126001</td>\n",
       "      <td>-0.758787</td>\n",
       "      <td>-1.123999</td>\n",
       "      <td>0.750316</td>\n",
       "      <td>-0.764542</td>\n",
       "      <td>-0.794135</td>\n",
       "      <td>-0.152671</td>\n",
       "      <td>...</td>\n",
       "      <td>0.0</td>\n",
       "      <td>0.0</td>\n",
       "      <td>0.0</td>\n",
       "      <td>0.0</td>\n",
       "      <td>0.0</td>\n",
       "      <td>0.0</td>\n",
       "      <td>0.0</td>\n",
       "      <td>0.0</td>\n",
       "      <td>1.0</td>\n",
       "      <td>0.0</td>\n",
       "    </tr>\n",
       "    <tr>\n",
       "      <th>19265</th>\n",
       "      <td>705000.0</td>\n",
       "      <td>144.87856</td>\n",
       "      <td>-37.82286</td>\n",
       "      <td>-1.126001</td>\n",
       "      <td>-0.758787</td>\n",
       "      <td>-1.123999</td>\n",
       "      <td>-0.868172</td>\n",
       "      <td>0.426855</td>\n",
       "      <td>-0.549384</td>\n",
       "      <td>-0.152671</td>\n",
       "      <td>...</td>\n",
       "      <td>1.0</td>\n",
       "      <td>0.0</td>\n",
       "      <td>0.0</td>\n",
       "      <td>0.0</td>\n",
       "      <td>0.0</td>\n",
       "      <td>0.0</td>\n",
       "      <td>0.0</td>\n",
       "      <td>0.0</td>\n",
       "      <td>1.0</td>\n",
       "      <td>0.0</td>\n",
       "    </tr>\n",
       "    <tr>\n",
       "      <th>19266</th>\n",
       "      <td>1020000.0</td>\n",
       "      <td>144.89351</td>\n",
       "      <td>-37.81810</td>\n",
       "      <td>-1.126001</td>\n",
       "      <td>-0.758787</td>\n",
       "      <td>-1.123999</td>\n",
       "      <td>-0.868172</td>\n",
       "      <td>-1.955939</td>\n",
       "      <td>-0.489199</td>\n",
       "      <td>-0.152671</td>\n",
       "      <td>...</td>\n",
       "      <td>0.0</td>\n",
       "      <td>0.0</td>\n",
       "      <td>0.0</td>\n",
       "      <td>0.0</td>\n",
       "      <td>0.0</td>\n",
       "      <td>0.0</td>\n",
       "      <td>0.0</td>\n",
       "      <td>0.0</td>\n",
       "      <td>1.0</td>\n",
       "      <td>0.0</td>\n",
       "    </tr>\n",
       "  </tbody>\n",
       "</table>\n",
       "<p>19267 rows × 21 columns</p>\n",
       "</div>"
      ],
      "text/plain": [
       "              0          1         2         3         4         5         6   \\\n",
       "0      1480000.0  144.99840 -37.79960 -1.126001 -1.384247 -1.123999 -0.868172   \n",
       "1      1035000.0  144.99340 -37.80790 -1.126001 -1.384247 -1.123999 -0.868172   \n",
       "2      1465000.0  144.99440 -37.80930  0.005816 -1.384247  0.017537  0.750316   \n",
       "3       850000.0  144.99690 -37.79690  0.005816 -1.384247  0.017537  0.750316   \n",
       "4      1600000.0  144.99410 -37.80720  1.137632 -1.384247  0.017537 -0.868172   \n",
       "...          ...        ...       ...       ...       ...       ...       ...   \n",
       "19262  1101000.0  144.88516 -37.81095  0.005816 -0.758787  0.017537 -0.868172   \n",
       "19263  1480000.0  144.88467 -37.81053  1.137632 -0.758787  1.159074 -0.868172   \n",
       "19264   888000.0  144.88826 -37.81551 -1.126001 -0.758787 -1.123999  0.750316   \n",
       "19265   705000.0  144.87856 -37.82286 -1.126001 -0.758787 -1.123999 -0.868172   \n",
       "19266  1020000.0  144.89351 -37.81810 -1.126001 -0.758787 -1.123999 -0.868172   \n",
       "\n",
       "             7         8         9   ...   11   12   13   14   15   16   17  \\\n",
       "0     -0.764542 -0.585494 -0.813574  ...  0.0  0.0  0.0  0.0  1.0  0.0  0.0   \n",
       "1     -1.955939 -0.677778 -0.813574  ...  0.0  0.0  0.0  0.0  1.0  0.0  0.0   \n",
       "2     -1.955939 -0.721913 -0.813574  ...  0.0  0.0  0.0  0.0  1.0  0.0  0.0   \n",
       "3     -0.764542 -0.802159 -0.813574  ...  0.0  0.0  0.0  0.0  1.0  0.0  0.0   \n",
       "4      0.426855 -0.749999 -0.813574  ...  0.0  0.0  0.0  0.0  1.0  0.0  0.0   \n",
       "...         ...       ...       ...  ...  ...  ...  ...  ...  ...  ...  ...   \n",
       "19262  0.426855 -0.412965 -0.152671  ...  0.0  0.0  0.0  0.0  0.0  0.0  0.0   \n",
       "19263  1.618252  0.198912 -0.152671  ...  0.0  0.0  0.0  0.0  0.0  0.0  0.0   \n",
       "19264 -0.764542 -0.794135 -0.152671  ...  0.0  0.0  0.0  0.0  0.0  0.0  0.0   \n",
       "19265  0.426855 -0.549384 -0.152671  ...  1.0  0.0  0.0  0.0  0.0  0.0  0.0   \n",
       "19266 -1.955939 -0.489199 -0.152671  ...  0.0  0.0  0.0  0.0  0.0  0.0  0.0   \n",
       "\n",
       "        18   19   20  \n",
       "0      0.0  0.0  0.0  \n",
       "1      0.0  0.0  0.0  \n",
       "2      0.0  0.0  0.0  \n",
       "3      0.0  0.0  0.0  \n",
       "4      0.0  0.0  0.0  \n",
       "...    ...  ...  ...  \n",
       "19262  0.0  1.0  0.0  \n",
       "19263  0.0  1.0  0.0  \n",
       "19264  0.0  1.0  0.0  \n",
       "19265  0.0  1.0  0.0  \n",
       "19266  0.0  1.0  0.0  \n",
       "\n",
       "[19267 rows x 21 columns]"
      ]
     },
     "execution_count": 4,
     "metadata": {},
     "output_type": "execute_result"
    }
   ],
   "source": [
    "melbourne_df"
   ]
  },
  {
   "cell_type": "code",
   "execution_count": 5,
   "id": "f730008d",
   "metadata": {},
   "outputs": [],
   "source": [
    "from torch import from_numpy\n",
    "from torch_geometric.nn import SAGEConv\n",
    "from utils.metrics import euclid_dist\n",
    "from sklearn.metrics import mean_squared_error\n",
    "\n",
    "melbourne_np = melbourne_df.to_numpy()\n",
    "data = EnhancerData(\n",
    "    features=from_numpy(melbourne_np[:, 3:]  .astype(np.float32)),\n",
    "    target=from_numpy(melbourne_np[:, 0]   .astype(np.float32)),\n",
    "    spatial=from_numpy(melbourne_np[:, 1:3] .astype(np.float32)),\n",
    ")"
   ]
  },
  {
   "cell_type": "code",
   "execution_count": 6,
   "id": "e1703017",
   "metadata": {},
   "outputs": [],
   "source": [
    "train_config = TrainConfig()\n",
    "\n",
    "gnn_setup = NetworkConfig(\n",
    "    encoder=[\n",
    "        (\n",
    "            SAGEConv(data.features.shape[1], 256),\n",
    "            \"x, edge_index -> x\",\n",
    "        ),\n",
    "        (\n",
    "            SAGEConv(256, 256),\n",
    "            \"x, edge_index -> x\",\n",
    "        ),\n",
    "    ],\n",
    "    estimator=[\n",
    "        Linear(256, 128),\n",
    "        ReLU(),\n",
    "        Linear(128, 128),\n",
    "        ReLU(),\n",
    "        Linear(128, 1),\n",
    "    ]\n",
    ")"
   ]
  },
  {
   "cell_type": "code",
   "execution_count": 7,
   "id": "c01664af",
   "metadata": {},
   "outputs": [],
   "source": [
    "knn_strategy = encoders_module.KNNStrategy(\n",
    "    K=5,\n",
    "    dist_metric=euclid_dist,\n",
    "    cache_dir=path_config.edge_cache,\n",
    "    cache_id=\"melbourne_knn\",\n",
    ")\n",
    "\n",
    "threshold_strategy = encoders_module.ThresholdStrategy(\n",
    "    dist_metric=haversine_metric,\n",
    "    max_dist=5,\n",
    "    cache_dir=path_config.edge_cache,\n",
    "    cache_id=\"melbourne_threshold\",\n",
    ")\n",
    "\n",
    "input_tasks = [\n",
    "    Task(knn_strategy, data),\n",
    "    Task(threshold_strategy, data),\n",
    "]"
   ]
  },
  {
   "cell_type": "markdown",
   "id": "b675a6f7",
   "metadata": {},
   "source": [
    "## Comparison"
   ]
  },
  {
   "cell_type": "code",
   "execution_count": 10,
   "id": "2a6a7439",
   "metadata": {},
   "outputs": [],
   "source": [
    "import torch\n",
    "from sklearn.model_selection import train_test_split\n",
    "\n",
    "dataset = torch.hstack((data.features, data.spatial, data.target.reshape(-1, 1)))\n",
    "train_dataset, test_dataset = train_test_split(dataset, train_size=0.8)\n",
    "\n",
    "train_data = EnhancerData(\n",
    "    features=train_dataset[:, :-3],\n",
    "    spatial=train_dataset[:, -3:-1],\n",
    "    target=train_dataset[:, -1],\n",
    ")\n",
    "test_data = EnhancerData(\n",
    "    features=test_dataset[:, :-3],\n",
    "    spatial=test_dataset[:, -3:-1],\n",
    "    target=test_dataset[:, -1],\n",
    ")"
   ]
  },
  {
   "cell_type": "code",
   "execution_count": 11,
   "id": "8389ee7a",
   "metadata": {},
   "outputs": [
    {
     "name": "stderr",
     "output_type": "stream",
     "text": [
      "GNN training: 100%|██████████| 10/10 [00:14<00:00,  1.50s/epoch, val_loss=1.15e+12]\n",
      "GNN training: 100%|██████████| 10/10 [01:29<00:00,  8.93s/epoch, val_loss=2.79e+11]\n"
     ]
    }
   ],
   "source": [
    "result = Enhancer.compare_strategies(\n",
    "    train_data,\n",
    "    test_data,\n",
    "    gnn_setup,\n",
    "    train_config,\n",
    "    [knn_strategy, threshold_strategy],\n",
    ")"
   ]
  },
  {
   "cell_type": "code",
   "execution_count": 12,
   "id": "583f451c",
   "metadata": {},
   "outputs": [
    {
     "name": "stdout",
     "output_type": "stream",
     "text": [
      "{\n",
      "\t\"melbourne_knn\": {\n",
      "\t\t\"mean_squared_error\": 1093883549010.5073,\n",
      "\t\t\"density\": 0.00040146472193270066,\n",
      "\t\t\"average degree\": 6.187374294426783,\n",
      "\t\t\"n connected components\": 17,\n",
      "\t\t\"largest component\": 13082\n",
      "\t},\n",
      "\t\"melbourne_threshold\": {\n",
      "\t\t\"mean_squared_error\": 268427957081.49326,\n",
      "\t\t\"density\": 0.0802874102711384,\n",
      "\t\t\"average degree\": 1237.228992278243,\n",
      "\t\t\"n connected components\": 4,\n",
      "\t\t\"largest component\": 15217\n",
      "\t}\n",
      "}\n"
     ]
    }
   ],
   "source": [
    "import json\n",
    "\n",
    "print(\n",
    "    json.dumps(\n",
    "        result.get_comparison([mean_squared_error]),\n",
    "        indent=\"\\t\",\n",
    "    )\n",
    ")"
   ]
  },
  {
   "cell_type": "code",
   "execution_count": 13,
   "id": "a7378748",
   "metadata": {},
   "outputs": [
    {
     "data": {
      "image/png": "[encoded data removed]",
      "text/plain": [
       "<Figure size 1200x800 with 2 Axes>"
      ]
     },
     "metadata": {},
     "output_type": "display_data"
    }
   ],
   "source": [
    "result.plot_train_logs()"
   ]
  },
  {
   "cell_type": "markdown",
   "id": "1fb0235a",
   "metadata": {},
   "source": [
    "## Processing"
   ]
  },
  {
   "cell_type": "code",
   "execution_count": 14,
   "id": "eb11cd93",
   "metadata": {},
   "outputs": [
    {
     "name": "stderr",
     "output_type": "stream",
     "text": [
      "GNN training: 100%|██████████| 10/10 [00:04<00:00,  2.11epoch/s, val_loss=3.24e+11]\n",
      "GNN training: 100%|██████████| 10/10 [00:16<00:00,  1.61s/epoch, val_loss=1.87e+11]\n"
     ]
    }
   ],
   "source": [
    "result = Enhancer.process_tasks(gnn_setup, train_config, input_tasks)"
   ]
  },
  {
   "cell_type": "code",
   "execution_count": 15,
   "id": "e17ca9aa",
   "metadata": {},
   "outputs": [
    {
     "data": {
      "text/plain": [
       "[('melbourne_knn',\n",
       "  tensor([1465000., 1876000.,  441000.,  ...,  765000.,  640000., 1480000.]),\n",
       "  tensor([ 754904.7500, 1991541.6250,    6799.5635,  ...,  502769.4688,\n",
       "          1535659.2500, 1123672.7500]),\n",
       "  tensor([[   0,    0,    0,  ..., 3853, 3853, 3853],\n",
       "          [1491, 1665, 1856,  ..., 2245, 2249, 3708]]),\n",
       "  [(720861802543.3522, 665453592576.0),\n",
       "   (656369871783.2411, 607637864448.0),\n",
       "   (595154635980.4651, 555639570432.0),\n",
       "   (544322253370.81635, 510104010752.0),\n",
       "   (499642050892.7076, 470189539328.0),\n",
       "   (461403614998.8206, 434186420224.0),\n",
       "   (427421731739.81396, 402306564096.0),\n",
       "   (399007507149.71185, 373983838208.0),\n",
       "   (373516278419.7068, 348186935296.0),\n",
       "   (348621933278.9162, 324399202304.0)]),\n",
       " ('melbourne_threshold',\n",
       "  tensor([ 300000., 1350000., 1310000.,  ..., 1226000.,  650000., 1150000.]),\n",
       "  tensor([ 793634.1250, 1711907.1250, 1319652.7500,  ..., 1075803.0000,\n",
       "           822746.4375, 1163934.1250]),\n",
       "  tensor([[   0,    0,    0,  ..., 3853, 3853, 3853],\n",
       "          [   6,   16,   29,  ..., 3815, 3823, 3828]]),\n",
       "  [(313800003942.74097, 305338220544.0),\n",
       "   (296492614368.83264, 288627785728.0),\n",
       "   (280634614912.96545, 272726704128.0),\n",
       "   (266567175022.13306, 257752629248.0),\n",
       "   (251548828297.31342, 243642580992.0),\n",
       "   (237046053978.4951, 230510264320.0),\n",
       "   (224912347531.98947, 218243809280.0),\n",
       "   (213609531327.17725, 206939881472.0),\n",
       "   (203155138223.382, 196561616896.0),\n",
       "   (193410369562.19385, 186996473856.0)])]"
      ]
     },
     "execution_count": 15,
     "metadata": {},
     "output_type": "execute_result"
    }
   ],
   "source": [
    "result._runs"
   ]
  },
  {
   "cell_type": "code",
   "execution_count": 16,
   "id": "83657ead",
   "metadata": {},
   "outputs": [
    {
     "name": "stdout",
     "output_type": "stream",
     "text": [
      "{'melbourne_knn': {'mean_squared_error': 318624923014.92645, 'density': 0.0016024822986852993, 'average degree': 6.174364296834458, 'n connected components': 7, 'largest component': 3640}, 'melbourne_threshold': {'mean_squared_error': 196655440670.96832, 'density': 0.08133197014140983, 'average degree': 313.3720809548521, 'n connected components': 3, 'largest component': 3809}}\n"
     ]
    }
   ],
   "source": [
    "print(result.get_comparison([mean_squared_error]))"
   ]
  },
  {
   "cell_type": "markdown",
   "id": "e87c5536",
   "metadata": {},
   "source": [
    "## Transformations"
   ]
  },
  {
   "cell_type": "code",
   "execution_count": 17,
   "id": "8523f29d",
   "metadata": {},
   "outputs": [],
   "source": [
    "enhancer = Enhancer(\n",
    "    gnn_setup, train_config, knn_strategy\n",
    ")"
   ]
  },
  {
   "cell_type": "code",
   "execution_count": 18,
   "id": "4051b14e",
   "metadata": {},
   "outputs": [
    {
     "name": "stderr",
     "output_type": "stream",
     "text": [
      "GNN training: 100%|██████████| 10/10 [00:04<00:00,  2.09epoch/s, val_loss=1.35e+11]\n"
     ]
    }
   ],
   "source": [
    "gnn, _ = enhancer.fit(data)\n",
    "transformed_data = enhancer.transform(data)"
   ]
  },
  {
   "cell_type": "code",
   "execution_count": 19,
   "id": "abb893b1",
   "metadata": {},
   "outputs": [],
   "source": [
    "edge_index = knn_strategy(data.spatial)"
   ]
  },
  {
   "cell_type": "code",
   "execution_count": 20,
   "id": "1d61966d",
   "metadata": {},
   "outputs": [
    {
     "data": {
      "text/plain": [
       "tensor([[1109647.7500],\n",
       "        [1090966.1250],\n",
       "        [1400364.2500],\n",
       "        ...,\n",
       "        [ 988109.1875],\n",
       "        [ 801585.8750],\n",
       "        [ 847649.4375]])"
      ]
     },
     "execution_count": 20,
     "metadata": {},
     "output_type": "execute_result"
    }
   ],
   "source": [
    "gnn.predict(data.features, edge_index)"
   ]
  },
  {
   "cell_type": "code",
   "execution_count": 21,
   "id": "f635ea94",
   "metadata": {},
   "outputs": [
    {
     "data": {
      "text/plain": [
       "(19267, 256)"
      ]
     },
     "execution_count": 21,
     "metadata": {},
     "output_type": "execute_result"
    }
   ],
   "source": [
    "transformed_data.shape"
   ]
  },
  {
   "cell_type": "code",
   "execution_count": null,
   "id": "e2d7b207",
   "metadata": {},
   "outputs": [],
   "source": []
  }
 ],
 "metadata": {
  "kernelspec": {
   "display_name": "venv",
   "language": "python",
   "name": "python3"
  },
  "language_info": {
   "codemirror_mode": {
    "name": "ipython",
    "version": 3
   },
   "file_extension": ".py",
   "mimetype": "text/x-python",
   "name": "python",
   "nbconvert_exporter": "python",
   "pygments_lexer": "ipython3",
   "version": "3.12.8"
  }
 },
 "nbformat": 4,
 "nbformat_minor": 5
}
