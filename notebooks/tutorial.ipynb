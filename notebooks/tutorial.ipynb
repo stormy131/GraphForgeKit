{
 "cells": [
  {
   "cell_type": "code",
   "execution_count": 1,
   "id": "b7ac4e6b",
   "metadata": {},
   "outputs": [],
   "source": [
    "import os\n",
    "import sys\n",
    "from importlib import reload\n",
    "from pathlib import Path\n",
    "\n",
    "import numpy as np\n",
    "from torch.nn import ReLU, Linear\n",
    "from torch_geometric.nn import GCNConv"
   ]
  },
  {
   "cell_type": "code",
   "execution_count": 2,
   "id": "0c4bf069",
   "metadata": {},
   "outputs": [],
   "source": [
    "# NOTE: Boilerplate setup for Jupyter imports\n",
    "\n",
    "root = Path(os.getcwd()).parent\n",
    "sys.path.append(\n",
    "    (root / \"src\").as_posix()\n",
    ")\n",
    "\n",
    "import configs as config_module\n",
    "import enhancer as enhancer_module\n",
    "import strategies as encoders_module\n",
    "import schema.edges as edges_module\n",
    "import schema.network as network_module\n",
    "import schema.data as data_module\n",
    "import utils.metrics as utils_module\n",
    "\n",
    "reload(edges_module)\n",
    "reload(config_module)\n",
    "reload(enhancer_module)\n",
    "reload(encoders_module)\n",
    "reload(network_module)\n",
    "reload(data_module)\n",
    "reload(utils_module)\n",
    "\n",
    "PathConfig, TrainConfig = config_module.PathConfig, config_module.TrainConfig\n",
    "Enhancer = enhancer_module.Enhancer\n",
    "get_default_encoders = encoders_module.get_default_encoders\n",
    "NetworkConfig, EnhancerData = network_module.NetworkConfig, data_module.EnhancerData\n",
    "GraphSetup = edges_module.GraphSetup\n",
    "euclid_metric, haversine_metric = utils_module.euclid_dist, utils_module.haversine_dist\n",
    "TrainConfig = config_module.TrainConfig"
   ]
  },
  {
   "cell_type": "code",
   "execution_count": 3,
   "id": "047e3263",
   "metadata": {},
   "outputs": [],
   "source": [
    "from torch import from_numpy\n",
    "from torch_geometric.nn import SAGEConv\n",
    "from utils.metrics import euclid_dist\n",
    "from sklearn.metrics import mean_squared_error\n",
    "\n",
    "path_config = PathConfig(data_root=\"../data\")\n",
    "path_config.target_data = path_config.data_root / \"processed/np/Melbourne_housing_FULL.npz\"\n",
    "with open(path_config.target_data, \"rb\") as f:\n",
    "    unpacked = np.load(f)\n",
    "\n",
    "    # NOTE: Target dimensions\n",
    "    data = EnhancerData(\n",
    "        from_numpy(unpacked[\"data\"]     .astype(np.float32)),\n",
    "        from_numpy(unpacked[\"target\"]   .astype(np.float32)),\n",
    "        from_numpy(unpacked[\"spatial\"]  .astype(np.float32)),\n",
    "    )"
   ]
  },
  {
   "cell_type": "code",
   "execution_count": 4,
   "id": "e1703017",
   "metadata": {},
   "outputs": [],
   "source": [
    "train_config = TrainConfig()\n",
    "\n",
    "gnn_setup = NetworkConfig(\n",
    "    encoder=[\n",
    "        SAGEConv(data.features.shape[1], 256),\n",
    "        SAGEConv(256, 256),\n",
    "    ],\n",
    "    estimator=[\n",
    "        Linear(256, 128),\n",
    "        ReLU(),\n",
    "        Linear(128, 128),\n",
    "        ReLU(),\n",
    "        Linear(128, 1),\n",
    "    ]\n",
    ")"
   ]
  },
  {
   "cell_type": "code",
   "execution_count": 5,
   "id": "c01664af",
   "metadata": {},
   "outputs": [],
   "source": [
    "knn_strategy = encoders_module.KNNStrategy(\n",
    "    K=5,\n",
    "    dist_metric=euclid_dist,\n",
    "    cache_dir=path_config.edge_cache,\n",
    "    cache_id=\"melbourne_knn\",\n",
    ")\n",
    "\n",
    "threshold_strategy = encoders_module.ThresholdStrategy(\n",
    "    dist_metric=haversine_metric,\n",
    "    max_dist=5,\n",
    "    cache_dir=path_config.edge_cache,\n",
    "    cache_id=\"melbourne_threshold\",\n",
    ")\n",
    "\n",
    "input_strategies = [\n",
    "    GraphSetup(knn_strategy, data),\n",
    "    # GraphSetup(threshold_strategy, data)\n",
    "]"
   ]
  },
  {
   "cell_type": "code",
   "execution_count": 6,
   "id": "eb11cd93",
   "metadata": {},
   "outputs": [
    {
     "name": "stderr",
     "output_type": "stream",
     "text": [
      "GNN training: 100%|██████████| 10/10 [00:12<00:00,  1.23s/epoch, loss=9.96e+11]\n"
     ]
    }
   ],
   "source": [
    "result = Enhancer.compare_strategies(gnn_setup, train_config, input_strategies)"
   ]
  },
  {
   "cell_type": "code",
   "execution_count": 7,
   "id": "83657ead",
   "metadata": {},
   "outputs": [
    {
     "name": "stdout",
     "output_type": "stream",
     "text": [
      "Option           mean_squared_error      density    average degree    n connected components    largest component\n",
      "-------------  --------------------  -----------  ----------------  ------------------------  -------------------\n",
      "melbourne_knn           1.12104e+12  0.000322345           6.21031                        25                17602\n"
     ]
    }
   ],
   "source": [
    "print(result.get_comparison([mean_squared_error]))"
   ]
  },
  {
   "cell_type": "code",
   "execution_count": 8,
   "id": "8523f29d",
   "metadata": {},
   "outputs": [],
   "source": [
    "enhancer = Enhancer(\n",
    "    gnn_setup, train_config, knn_strategy\n",
    ")"
   ]
  },
  {
   "cell_type": "code",
   "execution_count": 9,
   "id": "4051b14e",
   "metadata": {},
   "outputs": [
    {
     "name": "stderr",
     "output_type": "stream",
     "text": [
      "GNN training: 100%|██████████| 10/10 [00:11<00:00,  1.14s/epoch, loss=1.87e+11]\n"
     ]
    }
   ],
   "source": [
    "gnn = enhancer.fit(data)\n",
    "transformed_data = enhancer.transform(data)"
   ]
  },
  {
   "cell_type": "code",
   "execution_count": 10,
   "id": "abb893b1",
   "metadata": {},
   "outputs": [],
   "source": [
    "edge_index = knn_strategy(data.spatial)"
   ]
  },
  {
   "cell_type": "code",
   "execution_count": 11,
   "id": "1d61966d",
   "metadata": {},
   "outputs": [
    {
     "data": {
      "text/plain": [
       "tensor([[ 960410.3750],\n",
       "        [ 930960.6875],\n",
       "        [1099514.3750],\n",
       "        ...,\n",
       "        [ 789871.6250],\n",
       "        [ 759577.0000],\n",
       "        [ 669541.6875]])"
      ]
     },
     "execution_count": 11,
     "metadata": {},
     "output_type": "execute_result"
    }
   ],
   "source": [
    "gnn.predict(data.features, edge_index)"
   ]
  },
  {
   "cell_type": "code",
   "execution_count": 12,
   "id": "f635ea94",
   "metadata": {},
   "outputs": [
    {
     "data": {
      "text/plain": [
       "(19267, 256)"
      ]
     },
     "execution_count": 12,
     "metadata": {},
     "output_type": "execute_result"
    }
   ],
   "source": [
    "transformed_data.shape"
   ]
  },
  {
   "cell_type": "code",
   "execution_count": null,
   "id": "69ba425f",
   "metadata": {},
   "outputs": [],
   "source": []
  }
 ],
 "metadata": {
  "kernelspec": {
   "display_name": "venv",
   "language": "python",
   "name": "python3"
  },
  "language_info": {
   "codemirror_mode": {
    "name": "ipython",
    "version": 3
   },
   "file_extension": ".py",
   "mimetype": "text/x-python",
   "name": "python",
   "nbconvert_exporter": "python",
   "pygments_lexer": "ipython3",
   "version": "3.12.8"
  }
 },
 "nbformat": 4,
 "nbformat_minor": 5
}
