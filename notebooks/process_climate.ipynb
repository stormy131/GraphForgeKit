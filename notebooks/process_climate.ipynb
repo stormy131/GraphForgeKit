{
 "cells": [
  {
   "cell_type": "code",
   "execution_count": 1,
   "id": "e48322c0-6196-4398-a148-dd2e18d4d751",
   "metadata": {},
   "outputs": [],
   "source": [
    "from pathlib import Path\n",
    "\n",
    "import numpy as np\n",
    "import pandas as pd\n",
    "from sklearn.feature_extraction.text import TfidfVectorizer"
   ]
  },
  {
   "cell_type": "code",
   "execution_count": 2,
   "id": "165bd541-a13f-4afd-b7f5-66f937b615d4",
   "metadata": {},
   "outputs": [
    {
     "data": {
      "text/html": [
       "<div>\n",
       "<style scoped>\n",
       "    .dataframe tbody tr th:only-of-type {\n",
       "        vertical-align: middle;\n",
       "    }\n",
       "\n",
       "    .dataframe tbody tr th {\n",
       "        vertical-align: top;\n",
       "    }\n",
       "\n",
       "    .dataframe thead th {\n",
       "        text-align: right;\n",
       "    }\n",
       "</style>\n",
       "<table border=\"1\" class=\"dataframe\">\n",
       "  <thead>\n",
       "    <tr style=\"text-align: right;\">\n",
       "      <th></th>\n",
       "      <th>Headline</th>\n",
       "      <th>Link</th>\n",
       "      <th>Content</th>\n",
       "      <th>Sentiment</th>\n",
       "      <th>Justification</th>\n",
       "    </tr>\n",
       "  </thead>\n",
       "  <tbody>\n",
       "    <tr>\n",
       "      <th>0</th>\n",
       "      <td>Australia's year ahead in climate and environm...</td>\n",
       "      <td>https://www.abc.net.au/news/science/2024-01-23...</td>\n",
       "      <td>The year has barely started and extreme weath...</td>\n",
       "      <td>0.0</td>\n",
       "      <td>The headline is unclear about its direct impac...</td>\n",
       "    </tr>\n",
       "    <tr>\n",
       "      <th>1</th>\n",
       "      <td>Projections reveal the vulnerability of freshw...</td>\n",
       "      <td>https://news.griffith.edu.au/2024/01/09/projec...</td>\n",
       "      <td>“Water from groundwater, rivers and rainfall ...</td>\n",
       "      <td>-0.5</td>\n",
       "      <td>The vulnerability of freshwater is concerning ...</td>\n",
       "    </tr>\n",
       "    <tr>\n",
       "      <th>2</th>\n",
       "      <td>Record heat in 2023 worsened global droughts, ...</td>\n",
       "      <td>https://www.anu.edu.au/news/all-news/record-he...</td>\n",
       "      <td>2023 saw an increase in the frequency and int...</td>\n",
       "      <td>-1.0</td>\n",
       "      <td>The headline describes worsening environmental...</td>\n",
       "    </tr>\n",
       "    <tr>\n",
       "      <th>3</th>\n",
       "      <td>It's not just the total rainfall \"“ why is eas...</td>\n",
       "      <td>https://www.theguardian.com/australia-news/202...</td>\n",
       "      <td>The number of storms in some regions is decre...</td>\n",
       "      <td>0.0</td>\n",
       "      <td>The headline is unclear about its stance on cl...</td>\n",
       "    </tr>\n",
       "    <tr>\n",
       "      <th>4</th>\n",
       "      <td>Expert Commentary: 2023 was the warmest year o...</td>\n",
       "      <td>https://www.csiro.au/en/news/all/news/2024/jan...</td>\n",
       "      <td>The European Union's Copernicus Climate Chang...</td>\n",
       "      <td>-0.5</td>\n",
       "      <td>While highlighting the reality of climate chan...</td>\n",
       "    </tr>\n",
       "    <tr>\n",
       "      <th>...</th>\n",
       "      <td>...</td>\n",
       "      <td>...</td>\n",
       "      <td>...</td>\n",
       "      <td>...</td>\n",
       "      <td>...</td>\n",
       "    </tr>\n",
       "    <tr>\n",
       "      <th>1019</th>\n",
       "      <td>Boycott COP climate summit if Putin shows, Ukr...</td>\n",
       "      <td>https://www.politico.eu/article/boycott-climat...</td>\n",
       "      <td>The international community should shun the C...</td>\n",
       "      <td>-0.5</td>\n",
       "      <td>This is a politically charged statement and co...</td>\n",
       "    </tr>\n",
       "    <tr>\n",
       "      <th>1020</th>\n",
       "      <td>How climate change will impact outdoor activit...</td>\n",
       "      <td>https://news.mit.edu/2024/how-climate-change-w...</td>\n",
       "      <td>Using the concept of “outdoor days,\" a study...</td>\n",
       "      <td>0.5</td>\n",
       "      <td>This provides valuable insights into how clima...</td>\n",
       "    </tr>\n",
       "    <tr>\n",
       "      <th>1021</th>\n",
       "      <td>Climate and Environment - The New York Times</td>\n",
       "      <td>https://www.nytimes.com/section/climate</td>\n",
       "      <td>Earth's warming could trigger sweeping change...</td>\n",
       "      <td>0.0</td>\n",
       "      <td>This is a vague headline, and without more spe...</td>\n",
       "    </tr>\n",
       "    <tr>\n",
       "      <th>1022</th>\n",
       "      <td>Climate Change News &amp; Videos</td>\n",
       "      <td>https://abcnews.go.com/alerts/climatechange</td>\n",
       "      <td>Follow the latest Climate Change news stories...</td>\n",
       "      <td>0.0</td>\n",
       "      <td>Another general headline, offering information...</td>\n",
       "    </tr>\n",
       "    <tr>\n",
       "      <th>1023</th>\n",
       "      <td>Climate - BBC News</td>\n",
       "      <td>https://www.bbc.com/news/topics/cmj34zmwm1zt</td>\n",
       "      <td>Deadliest weather made worse by climate chang...</td>\n",
       "      <td>0.0</td>\n",
       "      <td>This is a general news update on climate chang...</td>\n",
       "    </tr>\n",
       "  </tbody>\n",
       "</table>\n",
       "<p>1024 rows × 5 columns</p>\n",
       "</div>"
      ],
      "text/plain": [
       "                                               Headline  \\\n",
       "0     Australia's year ahead in climate and environm...   \n",
       "1     Projections reveal the vulnerability of freshw...   \n",
       "2     Record heat in 2023 worsened global droughts, ...   \n",
       "3     It's not just the total rainfall \"“ why is eas...   \n",
       "4     Expert Commentary: 2023 was the warmest year o...   \n",
       "...                                                 ...   \n",
       "1019  Boycott COP climate summit if Putin shows, Ukr...   \n",
       "1020  How climate change will impact outdoor activit...   \n",
       "1021       Climate and Environment - The New York Times   \n",
       "1022                       Climate Change News & Videos   \n",
       "1023                                 Climate - BBC News   \n",
       "\n",
       "                                                   Link  \\\n",
       "0     https://www.abc.net.au/news/science/2024-01-23...   \n",
       "1     https://news.griffith.edu.au/2024/01/09/projec...   \n",
       "2     https://www.anu.edu.au/news/all-news/record-he...   \n",
       "3     https://www.theguardian.com/australia-news/202...   \n",
       "4     https://www.csiro.au/en/news/all/news/2024/jan...   \n",
       "...                                                 ...   \n",
       "1019  https://www.politico.eu/article/boycott-climat...   \n",
       "1020  https://news.mit.edu/2024/how-climate-change-w...   \n",
       "1021            https://www.nytimes.com/section/climate   \n",
       "1022        https://abcnews.go.com/alerts/climatechange   \n",
       "1023       https://www.bbc.com/news/topics/cmj34zmwm1zt   \n",
       "\n",
       "                                                Content  Sentiment  \\\n",
       "0      The year has barely started and extreme weath...        0.0   \n",
       "1      “Water from groundwater, rivers and rainfall ...       -0.5   \n",
       "2      2023 saw an increase in the frequency and int...       -1.0   \n",
       "3      The number of storms in some regions is decre...        0.0   \n",
       "4      The European Union's Copernicus Climate Chang...       -0.5   \n",
       "...                                                 ...        ...   \n",
       "1019   The international community should shun the C...       -0.5   \n",
       "1020   Using the concept of “outdoor days,\" a study...        0.5   \n",
       "1021   Earth's warming could trigger sweeping change...        0.0   \n",
       "1022   Follow the latest Climate Change news stories...        0.0   \n",
       "1023   Deadliest weather made worse by climate chang...        0.0   \n",
       "\n",
       "                                          Justification  \n",
       "0     The headline is unclear about its direct impac...  \n",
       "1     The vulnerability of freshwater is concerning ...  \n",
       "2     The headline describes worsening environmental...  \n",
       "3     The headline is unclear about its stance on cl...  \n",
       "4     While highlighting the reality of climate chan...  \n",
       "...                                                 ...  \n",
       "1019  This is a politically charged statement and co...  \n",
       "1020  This provides valuable insights into how clima...  \n",
       "1021  This is a vague headline, and without more spe...  \n",
       "1022  Another general headline, offering information...  \n",
       "1023  This is a general news update on climate chang...  \n",
       "\n",
       "[1024 rows x 5 columns]"
      ]
     },
     "execution_count": 2,
     "metadata": {},
     "output_type": "execute_result"
    }
   ],
   "source": [
    "DATA_ROOT = Path(\"../../data\")\n",
    "TARGET_DATA = \"climate_headlines_sentiment.csv\"\n",
    "\n",
    "data = pd.read_csv(DATA_ROOT / \"raw/climate\" / TARGET_DATA, index_col=0)\n",
    "data"
   ]
  },
  {
   "cell_type": "code",
   "execution_count": 3,
   "id": "9e861cc0-9851-486f-a22c-c24ed7531e8f",
   "metadata": {},
   "outputs": [
    {
     "data": {
      "text/plain": [
       "Headline         0\n",
       "Link             0\n",
       "Content          0\n",
       "Sentiment        1\n",
       "Justification    1\n",
       "dtype: int64"
      ]
     },
     "execution_count": 3,
     "metadata": {},
     "output_type": "execute_result"
    }
   ],
   "source": [
    "data.isna().sum(axis=0)"
   ]
  },
  {
   "cell_type": "code",
   "execution_count": 4,
   "id": "8d0ea208-bc15-4402-8f35-58c868db482e",
   "metadata": {},
   "outputs": [],
   "source": [
    "data = data.dropna(subset=[\"Sentiment\"]).reset_index(drop=True)"
   ]
  },
  {
   "cell_type": "code",
   "execution_count": 5,
   "id": "a31411d4-ff5a-4c0c-9925-05f8ca2a5947",
   "metadata": {},
   "outputs": [],
   "source": [
    "target = data[\"Sentiment\"]\n",
    "data = data[\"Headline\"] + data[\"Content\"]"
   ]
  },
  {
   "cell_type": "code",
   "execution_count": 6,
   "id": "a342e333-d89c-4fde-ac9b-6badab835e81",
   "metadata": {},
   "outputs": [
    {
     "data": {
      "text/plain": [
       "0       Australia's year ahead in climate and environm...\n",
       "1       Projections reveal the vulnerability of freshw...\n",
       "2       Record heat in 2023 worsened global droughts, ...\n",
       "3       It's not just the total rainfall \"“ why is eas...\n",
       "4       Expert Commentary: 2023 was the warmest year o...\n",
       "                              ...                        \n",
       "1018    Boycott COP climate summit if Putin shows, Ukr...\n",
       "1019    How climate change will impact outdoor activit...\n",
       "1020    Climate and Environment - The New York Times E...\n",
       "1021    Climate Change News & Videos Follow the latest...\n",
       "1022    Climate - BBC News Deadliest weather made wors...\n",
       "Length: 1023, dtype: object"
      ]
     },
     "execution_count": 6,
     "metadata": {},
     "output_type": "execute_result"
    }
   ],
   "source": [
    "data"
   ]
  },
  {
   "cell_type": "code",
   "execution_count": 7,
   "id": "f0a722ee-35d9-4f96-9026-1056fd6e82e7",
   "metadata": {},
   "outputs": [
    {
     "data": {
      "text/plain": [
       "\"Australia's year ahead in climate and environment - ABC The year has barely started and extreme weather events are already in the headlines. Here are some more big environment issues to keep an eye on....\""
      ]
     },
     "execution_count": 7,
     "metadata": {},
     "output_type": "execute_result"
    }
   ],
   "source": [
    "data[0]"
   ]
  },
  {
   "cell_type": "code",
   "execution_count": 8,
   "id": "2482736c-eee9-4f56-b87e-3d87df6e6b90",
   "metadata": {},
   "outputs": [],
   "source": [
    "vectorizer = TfidfVectorizer(\n",
    "    strip_accents=\"ascii\",\n",
    "    stop_words=\"english\",\n",
    "    token_pattern=r\"[A-Za-z]+\",\n",
    ")\n",
    "data = vectorizer.fit_transform(data).toarray()"
   ]
  },
  {
   "cell_type": "code",
   "execution_count": 9,
   "id": "e13ebe25-e5ad-4897-b12c-b7670629f2ab",
   "metadata": {},
   "outputs": [
    {
     "data": {
      "text/plain": [
       "array(['aarti', 'abandoned', 'abc', 'abenomics', 'ability', 'ablaze',\n",
       "       'able', 'abrahm', 'abroad', 'abs', 'absence', 'absorbing',\n",
       "       'acapulco', 'accelerate', 'accelerated', 'accelerating',\n",
       "       'acceleration', 'access', 'accidents', 'accommodative',\n",
       "       'accomplished', 'accord', 'according', 'accountability',\n",
       "       'accurately', 'accus', 'accuses', 'achieve', 'achieved',\n",
       "       'achievements', 'achieving', 'acknowledged', 'acquaints', 'acres',\n",
       "       'act', 'acting', 'action', 'actionraising', 'actions', 'active',\n",
       "       'actively', 'activism', 'activist', 'activists', 'activities',\n",
       "       'activity', 'actor', 'actors', 'actual', 'actually', 'acute',\n",
       "       'acutely', 'adam', 'adapt', 'adaptation', 'adapting', 'added',\n",
       "       'addition', 'additional', 'additionally', 'address', 'addressed',\n",
       "       'addresses', 'addressing', 'adds', 'adjustment', 'administration',\n",
       "       'administrative', 'administrator', 'admissible', 'admit', 'adopt',\n",
       "       'adopted', 'adopting', 'adoption', 'advances', 'advancing',\n",
       "       'advantages', 'advertisement', 'advice', 'adviser', 'advisers',\n",
       "       'advising', 'advisors', 'advisory', 'advocates', 'aerosol', 'af',\n",
       "       'affairs', 'affect', 'affected', 'affecting', 'affects',\n",
       "       'affordability', 'afp', 'africa', 'afternoon', 'agave', 'age',\n",
       "       'aged'], dtype=object)"
      ]
     },
     "execution_count": 9,
     "metadata": {},
     "output_type": "execute_result"
    }
   ],
   "source": [
    "vectorizer.get_feature_names_out()[:100]"
   ]
  },
  {
   "cell_type": "code",
   "execution_count": 10,
   "id": "bb7f433e-433a-4477-938a-cefd8be0a0ca",
   "metadata": {},
   "outputs": [
    {
     "data": {
      "text/plain": [
       "(1023, 3981)"
      ]
     },
     "execution_count": 10,
     "metadata": {},
     "output_type": "execute_result"
    }
   ],
   "source": [
    "data.shape"
   ]
  },
  {
   "cell_type": "code",
   "execution_count": 11,
   "id": "146613c5",
   "metadata": {},
   "outputs": [
    {
     "data": {
      "text/plain": [
       "array([[0.        , 0.        , 0.24209752, ..., 0.        , 0.        ,\n",
       "        0.        ],\n",
       "       [0.        , 0.        , 0.        , ..., 0.        , 0.        ,\n",
       "        0.        ],\n",
       "       [0.        , 0.        , 0.        , ..., 0.        , 0.        ,\n",
       "        0.        ],\n",
       "       ...,\n",
       "       [0.        , 0.        , 0.        , ..., 0.        , 0.        ,\n",
       "        0.        ],\n",
       "       [0.        , 0.        , 0.22514621, ..., 0.        , 0.        ,\n",
       "        0.        ],\n",
       "       [0.        , 0.        , 0.        , ..., 0.        , 0.        ,\n",
       "        0.        ]])"
      ]
     },
     "execution_count": 11,
     "metadata": {},
     "output_type": "execute_result"
    }
   ],
   "source": [
    "data"
   ]
  },
  {
   "cell_type": "code",
   "execution_count": 25,
   "id": "b8d5dd73-83af-444d-aeeb-4b0e8c7761c8",
   "metadata": {},
   "outputs": [
    {
     "data": {
      "text/plain": [
       "array([-1. , -0.5,  0. ,  0.5,  1. ])"
      ]
     },
     "execution_count": 25,
     "metadata": {},
     "output_type": "execute_result"
    }
   ],
   "source": [
    "np.unique(target)"
   ]
  },
  {
   "cell_type": "code",
   "execution_count": 26,
   "id": "76ea8ff0-b1b1-422a-9cb9-b77ab4c30ac0",
   "metadata": {},
   "outputs": [
    {
     "name": "stdout",
     "output_type": "stream",
     "text": [
      "[0 1 2 3 4]\n"
     ]
    },
    {
     "data": {
      "text/plain": [
       "array([2, 1, 0, ..., 2, 2, 2], dtype=uint8)"
      ]
     },
     "execution_count": 26,
     "metadata": {},
     "output_type": "execute_result"
    }
   ],
   "source": [
    "target = (target * 2 + 2).astype(np.uint8).to_numpy()\n",
    "\n",
    "print(np.unique(target))\n",
    "target"
   ]
  },
  {
   "cell_type": "code",
   "execution_count": 27,
   "id": "c6a6c01a-c75d-4a5f-a869-338937799535",
   "metadata": {},
   "outputs": [],
   "source": [
    "with open(DATA_ROOT / \"processed/climate\" / TARGET_DATA.replace(\".csv\", \".npz\"), \"xb\") as f:\n",
    "    np.savez(\n",
    "        f,\n",
    "        data=data,\n",
    "        target=target,\n",
    "        spatial=data,\n",
    "    ) "
   ]
  },
  {
   "cell_type": "code",
   "execution_count": null,
   "id": "09ff7edd",
   "metadata": {},
   "outputs": [],
   "source": []
  }
 ],
 "metadata": {
  "kernelspec": {
   "display_name": "venv",
   "language": "python",
   "name": "python3"
  },
  "language_info": {
   "codemirror_mode": {
    "name": "ipython",
    "version": 3
   },
   "file_extension": ".py",
   "mimetype": "text/x-python",
   "name": "python",
   "nbconvert_exporter": "python",
   "pygments_lexer": "ipython3",
   "version": "3.12.8"
  }
 },
 "nbformat": 4,
 "nbformat_minor": 5
}
