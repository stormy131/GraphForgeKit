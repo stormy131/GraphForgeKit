{
 "cells": [
  {
   "cell_type": "code",
   "execution_count": 1,
   "id": "648d3e1f",
   "metadata": {},
   "outputs": [],
   "source": [
    "import os\n",
    "import sys\n",
    "from importlib import reload\n",
    "from pathlib import Path\n",
    "\n",
    "import numpy as np\n",
    "from torch.nn import ReLU, Linear\n",
    "from torch_geometric.nn import GCNConv"
   ]
  },
  {
   "cell_type": "code",
   "execution_count": 2,
   "id": "90c79243",
   "metadata": {},
   "outputs": [],
   "source": [
    "# NOTE: Boilerplate setup for Jupyter imports\n",
    "root = Path(os.getcwd()).parent\n",
    "sys.path.append(\n",
    "    (root / \"src\").as_posix()\n",
    ")\n",
    "\n",
    "import configs as config_module\n",
    "import enhancer as enhancer_module\n",
    "import encoders as encoders_module\n",
    "import scheme.edges as edges_module\n",
    "import scheme.network as network_module\n",
    "import scheme.data as data_module\n",
    "\n",
    "reload(edges_module)\n",
    "reload(config_module)\n",
    "reload(enhancer_module)\n",
    "reload(encoders_module)\n",
    "reload(network_module)\n",
    "reload(data_module)\n",
    "\n",
    "PathConfig, TrainConfig = config_module.PathConfig, config_module.TrainConfig\n",
    "Enhancer = enhancer_module.Enhancer\n",
    "get_default_encoders = encoders_module.get_default_encoders\n",
    "GNNConfig, EnhancerData = network_module.NetworkConfig, data_module.EnhancerData\n",
    "EdgeStrategy = edges_module.EdgeStrategy"
   ]
  },
  {
   "cell_type": "code",
   "execution_count": 3,
   "id": "2fa6c173",
   "metadata": {},
   "outputs": [],
   "source": [
    "path_config = PathConfig(\n",
    "    data_root=(root / \"data\").as_posix()\n",
    ")\n",
    "\n",
    "with open(path_config.data_root / \"processed/np/cora.npz\", \"rb\") as f:\n",
    "    unpacked = np.load(f)\n",
    "\n",
    "    # NOTE: Target dimensions\n",
    "    data = EnhancerData(\n",
    "        unpacked[\"data\"],\n",
    "        unpacked[\"target\"].reshape(-1),\n",
    "        unpacked[\"spatial\"],\n",
    "    )"
   ]
  },
  {
   "cell_type": "code",
   "execution_count": 4,
   "id": "86b592c2",
   "metadata": {},
   "outputs": [],
   "source": [
    "gnn_setup = GNNConfig(\n",
    "    encoder=[\n",
    "        GCNConv(data.features.shape[1], 256),\n",
    "        GCNConv(256, 256),\n",
    "    ],\n",
    "    estimator=[\n",
    "        Linear(256, 128),\n",
    "        ReLU(),\n",
    "        Linear(128, 128),\n",
    "        ReLU(),\n",
    "        Linear(128, len(np.unique(data.target))),\n",
    "    ]\n",
    ")"
   ]
  },
  {
   "cell_type": "code",
   "execution_count": 5,
   "id": "e316d236",
   "metadata": {},
   "outputs": [
    {
     "name": "stdout",
     "output_type": "stream",
     "text": [
      "cora_dist test: Loss = 1.4488e+00 | Accuracy = 0.6752767527675276\n",
      "cora_repr test: Loss = 1.2929e+00 | Accuracy = 0.5350553505535055\n"
     ]
    }
   ],
   "source": [
    "encoders = [\n",
    "    encoders_module.DistEncoder(\n",
    "        max_dist=5,\n",
    "        cache_dir=path_config.edge_cache,\n",
    "        note=\"cora_dist\",\n",
    "    ),\n",
    "    encoders_module.ReprEncoder(\n",
    "        neighbor_rate=0.7,\n",
    "        cache_dir=path_config.edge_cache,\n",
    "        note=\"cora_repr\",\n",
    "    ),\n",
    "]\n",
    "\n",
    "strategies = [\n",
    "    EdgeStrategy(e, data)\n",
    "    for e in encoders\n",
    "]\n",
    "\n",
    "result = Enhancer.compare_builders(gnn_setup, strategies)"
   ]
  },
  {
   "cell_type": "code",
   "execution_count": 6,
   "id": "17cb4067",
   "metadata": {},
   "outputs": [
    {
     "name": "stdout",
     "output_type": "stream",
     "text": [
      "Option       accuracy_score    f1_score\n",
      "---------  ----------------  ----------\n",
      "cora_dist          0.675277    0.642889\n",
      "cora_repr          0.535055    0.527314\n"
     ]
    }
   ],
   "source": [
    "print(result)"
   ]
  },
  {
   "cell_type": "code",
   "execution_count": 7,
   "id": "42cab25e",
   "metadata": {},
   "outputs": [],
   "source": [
    "enhancer = Enhancer(\n",
    "    net_config=gnn_setup,\n",
    "    edge_builder=encoders_module.DistEncoder(\n",
    "        max_dist=5,\n",
    "        cache_dir=path_config.edge_cache,\n",
    "        note=\"cora_dist [max dist = 5]\",\n",
    "    ),\n",
    ")"
   ]
  },
  {
   "cell_type": "code",
   "execution_count": 8,
   "id": "05407b11",
   "metadata": {},
   "outputs": [],
   "source": [
    "gnn = enhancer.fit(data)"
   ]
  },
  {
   "cell_type": "code",
   "execution_count": 9,
   "id": "40df89fc",
   "metadata": {},
   "outputs": [
    {
     "data": {
      "text/plain": [
       "array([[-0.14913446, -0.22291206, -0.2982183 , ..., -0.13839063,\n",
       "         0.4110715 ,  0.41540155],\n",
       "       [-0.5775375 , -0.74322426, -0.37276083, ..., -0.59690994,\n",
       "         0.24487399, -0.30890217],\n",
       "       [-0.25104582, -1.0337194 , -0.07432133, ..., -0.46774113,\n",
       "         0.2804356 , -0.40491274],\n",
       "       ...,\n",
       "       [ 0.0550571 , -0.57310057, -0.7471699 , ...,  0.1554817 ,\n",
       "         0.5920073 ,  0.24447809],\n",
       "       [-0.19284065, -0.6017901 , -0.4805082 , ..., -0.28493458,\n",
       "         0.2846866 ,  0.27027017],\n",
       "       [-0.17198163, -0.53422344, -0.5038126 , ...,  0.08991784,\n",
       "         0.44923875,  0.35963517]], dtype=float32)"
      ]
     },
     "execution_count": 9,
     "metadata": {},
     "output_type": "execute_result"
    }
   ],
   "source": [
    "enhancer.transform(data)"
   ]
  },
  {
   "cell_type": "code",
   "execution_count": null,
   "id": "f5c3c5a0",
   "metadata": {},
   "outputs": [],
   "source": []
  }
 ],
 "metadata": {
  "kernelspec": {
   "display_name": "venv",
   "language": "python",
   "name": "python3"
  },
  "language_info": {
   "codemirror_mode": {
    "name": "ipython",
    "version": 3
   },
   "file_extension": ".py",
   "mimetype": "text/x-python",
   "name": "python",
   "nbconvert_exporter": "python",
   "pygments_lexer": "ipython3",
   "version": "3.12.10"
  }
 },
 "nbformat": 4,
 "nbformat_minor": 5
}
