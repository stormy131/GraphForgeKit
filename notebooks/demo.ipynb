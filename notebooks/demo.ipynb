{
 "cells": [
  {
   "cell_type": "code",
   "execution_count": 1,
   "id": "648d3e1f",
   "metadata": {},
   "outputs": [],
   "source": [
    "import os\n",
    "import sys\n",
    "from importlib import reload\n",
    "from pathlib import Path\n",
    "\n",
    "import numpy as np\n",
    "from torch.nn import ReLU, Linear\n",
    "from torch_geometric.nn import GCNConv"
   ]
  },
  {
   "cell_type": "code",
   "execution_count": null,
   "id": "90c79243",
   "metadata": {},
   "outputs": [],
   "source": [
    "# NOTE: Boilerplate setup for Jupyter imports\n",
    "\n",
    "root = Path(os.getcwd()).parent\n",
    "sys.path.append(\n",
    "    (root / \"src\").as_posix()\n",
    ")\n",
    "\n",
    "import configs as config_module\n",
    "import enhancer as enhancer_module\n",
    "import strategies as encoders_module\n",
    "import schema.edges as edges_module\n",
    "import schema.network as network_module\n",
    "import schema.data as data_module\n",
    "import utils.metrics as utils_module\n",
    "\n",
    "reload(edges_module)\n",
    "reload(config_module)\n",
    "reload(enhancer_module)\n",
    "reload(encoders_module)\n",
    "reload(network_module)\n",
    "reload(data_module)\n",
    "reload(utils_module)\n",
    "\n",
    "PathConfig, TrainConfig = config_module.PathConfig, config_module.TrainConfig\n",
    "Enhancer = enhancer_module.Enhancer\n",
    "get_default_encoders = encoders_module.get_default_encoders\n",
    "GNNConfig, EnhancerData = network_module.NetworkConfig, data_module.EnhancerData\n",
    "GraphSetup = edges_module.GraphSetup\n",
    "euclid_metric = utils_module.euclid_dist"
   ]
  },
  {
   "cell_type": "code",
   "execution_count": 3,
   "id": "2fa6c173",
   "metadata": {},
   "outputs": [],
   "source": [
    "path_config = PathConfig(\n",
    "    data_root=(root / \"data\").as_posix()\n",
    ")\n",
    "\n",
    "with open(path_config.data_root / \"processed/np/cora.npz\", \"rb\") as f:\n",
    "    unpacked = np.load(f)\n",
    "\n",
    "    # NOTE: Target dimensions\n",
    "    data = EnhancerData(\n",
    "        unpacked[\"data\"],\n",
    "        unpacked[\"target\"].reshape(-1),\n",
    "        unpacked[\"spatial\"],\n",
    "    )"
   ]
  },
  {
   "cell_type": "code",
   "execution_count": 4,
   "id": "86b592c2",
   "metadata": {},
   "outputs": [],
   "source": [
    "gnn_setup = GNNConfig(\n",
    "    encoder=[\n",
    "        GCNConv(data.features.shape[1], 256),\n",
    "        GCNConv(256, 256),\n",
    "    ],\n",
    "    estimator=[\n",
    "        Linear(256, 128),\n",
    "        ReLU(),\n",
    "        Linear(128, 128),\n",
    "        ReLU(),\n",
    "        Linear(128, len(np.unique(data.target))),\n",
    "    ]\n",
    ")"
   ]
  },
  {
   "cell_type": "code",
   "execution_count": null,
   "id": "e316d236",
   "metadata": {},
   "outputs": [
    {
     "ename": "ValueError",
     "evalue": "all the input arrays must have same number of dimensions, but the array at index 0 has 2 dimension(s) and the array at index 1 has 1 dimension(s)",
     "output_type": "error",
     "traceback": [
      "\u001b[31m---------------------------------------------------------------------------\u001b[39m",
      "\u001b[31mValueError\u001b[39m                                Traceback (most recent call last)",
      "\u001b[36mCell\u001b[39m\u001b[36m \u001b[39m\u001b[32mIn[5]\u001b[39m\u001b[32m, line 34\u001b[39m\n\u001b[32m      1\u001b[39m encoders = [\n\u001b[32m      2\u001b[39m     \u001b[38;5;66;03m# encoders_module.ThresholdStrategy(\u001b[39;00m\n\u001b[32m      3\u001b[39m     \u001b[38;5;66;03m#     max_dist=5,\u001b[39;00m\n\u001b[32m   (...)\u001b[39m\u001b[32m     26\u001b[39m     ),\n\u001b[32m     27\u001b[39m ]\n\u001b[32m     29\u001b[39m strategies = [\n\u001b[32m     30\u001b[39m     EdgeBuild(e, data)\n\u001b[32m     31\u001b[39m     \u001b[38;5;28;01mfor\u001b[39;00m e \u001b[38;5;129;01min\u001b[39;00m encoders\n\u001b[32m     32\u001b[39m ]\n\u001b[32m---> \u001b[39m\u001b[32m34\u001b[39m result = \u001b[43mEnhancer\u001b[49m\u001b[43m.\u001b[49m\u001b[43mcompare_strategies\u001b[49m\u001b[43m(\u001b[49m\u001b[43mgnn_setup\u001b[49m\u001b[43m,\u001b[49m\u001b[43m \u001b[49m\u001b[43mstrategies\u001b[49m\u001b[43m)\u001b[49m\n",
      "\u001b[36mFile \u001b[39m\u001b[32m/afs/ms.mff.cuni.cz/u/k/kopyla/kopyl2024/src/enhancer.py:48\u001b[39m, in \u001b[36mEnhancer.compare_strategies\u001b[39m\u001b[34m(cls, gnn_config, strategies)\u001b[39m\n\u001b[32m     45\u001b[39m \u001b[38;5;28;01mfor\u001b[39;00m strategy, data \u001b[38;5;129;01min\u001b[39;00m strategies:\n\u001b[32m     46\u001b[39m     \u001b[38;5;28mself\u001b[39m = \u001b[38;5;28mcls\u001b[39m(gnn_config, strategy)\n\u001b[32m---> \u001b[39m\u001b[32m48\u001b[39m     ds_graph = \u001b[38;5;28;43mself\u001b[39;49m\u001b[43m.\u001b[49m\u001b[43m_build_graph\u001b[49m\u001b[43m(\u001b[49m\u001b[43mdata\u001b[49m\u001b[43m,\u001b[49m\u001b[43m \u001b[49m\u001b[43mstrategy\u001b[49m\u001b[43m)\u001b[49m\n\u001b[32m     49\u001b[39m     generated_edges = ds_graph.edge_index.numpy()\n\u001b[32m     50\u001b[39m     test_graph = ds_graph.subgraph(ds_graph.test_mask)\n",
      "\u001b[36mFile \u001b[39m\u001b[32m/afs/ms.mff.cuni.cz/u/k/kopyla/kopyl2024/src/enhancer.py:91\u001b[39m, in \u001b[36mEnhancer._build_graph\u001b[39m\u001b[34m(self, data, strategy)\u001b[39m\n\u001b[32m     88\u001b[39m \u001b[38;5;28;01mif\u001b[39;00m strategy.cache_path.exists():\n\u001b[32m     89\u001b[39m     \u001b[38;5;28;01mreturn\u001b[39;00m torch.load(strategy.cache_path, weights_only=\u001b[38;5;28;01mFalse\u001b[39;00m)\n\u001b[32m---> \u001b[39m\u001b[32m91\u001b[39m edges = \u001b[43mstrategy\u001b[49m\u001b[43m(\u001b[49m\u001b[43mdata\u001b[49m\u001b[43m.\u001b[49m\u001b[43mspatial\u001b[49m\u001b[43m)\u001b[49m\n\u001b[32m     92\u001b[39m ds_graph = \u001b[38;5;28mself\u001b[39m._setup_data(data.features, data.target, edges)\n\u001b[32m     94\u001b[39m torch.save(ds_graph, strategy.cache_path)\n",
      "\u001b[36mFile \u001b[39m\u001b[32m/afs/ms.mff.cuni.cz/u/k/kopyla/kopyl2024/src/strategies/_knn.py:23\u001b[39m, in \u001b[36mKNNStrategy.__call__\u001b[39m\u001b[34m(self, data)\u001b[39m\n\u001b[32m     20\u001b[39m sorted_idx = np.argsort(dists, axis=\u001b[32m1\u001b[39m)\n\u001b[32m     22\u001b[39m neighbors = sorted_idx[:, \u001b[32m1\u001b[39m : \u001b[38;5;28mself\u001b[39m._K + \u001b[32m1\u001b[39m]\n\u001b[32m---> \u001b[39m\u001b[32m23\u001b[39m edge_index = \u001b[43mnp\u001b[49m\u001b[43m.\u001b[49m\u001b[43mconcatenate\u001b[49m\u001b[43m(\u001b[49m\n\u001b[32m     24\u001b[39m \u001b[43m    \u001b[49m\u001b[43m[\u001b[49m\n\u001b[32m     25\u001b[39m \u001b[43m        \u001b[49m\u001b[43mnp\u001b[49m\u001b[43m.\u001b[49m\u001b[43mrepeat\u001b[49m\u001b[43m(\u001b[49m\u001b[43mnp\u001b[49m\u001b[43m.\u001b[49m\u001b[43marange\u001b[49m\u001b[43m(\u001b[49m\u001b[43mdata\u001b[49m\u001b[43m.\u001b[49m\u001b[43mshape\u001b[49m\u001b[43m[\u001b[49m\u001b[32;43m0\u001b[39;49m\u001b[43m]\u001b[49m\u001b[43m)\u001b[49m\u001b[43m,\u001b[49m\u001b[43m \u001b[49m\u001b[38;5;28;43mself\u001b[39;49m\u001b[43m.\u001b[49m\u001b[43m_K\u001b[49m\u001b[43m)\u001b[49m\u001b[43m[\u001b[49m\u001b[43m:\u001b[49m\u001b[43m,\u001b[49m\u001b[43m \u001b[49m\u001b[38;5;28;43;01mNone\u001b[39;49;00m\u001b[43m]\u001b[49m\u001b[43m,\u001b[49m\n\u001b[32m     26\u001b[39m \u001b[43m        \u001b[49m\u001b[43mneighbors\u001b[49m\u001b[43m[\u001b[49m\u001b[43m:\u001b[49m\u001b[43m,\u001b[49m\u001b[43m \u001b[49m\u001b[38;5;28;43;01mNone\u001b[39;49;00m\u001b[43m]\u001b[49m\u001b[43m.\u001b[49m\u001b[43mravel\u001b[49m\u001b[43m(\u001b[49m\u001b[43m)\u001b[49m\u001b[43m,\u001b[49m\n\u001b[32m     27\u001b[39m \u001b[43m    \u001b[49m\u001b[43m]\u001b[49m\u001b[43m,\u001b[49m\n\u001b[32m     28\u001b[39m \u001b[43m    \u001b[49m\u001b[43maxis\u001b[49m\u001b[43m=\u001b[49m\u001b[32;43m1\u001b[39;49m\u001b[43m,\u001b[49m\n\u001b[32m     29\u001b[39m \u001b[43m\u001b[49m\u001b[43m)\u001b[49m\n\u001b[32m     31\u001b[39m edge_index = torch.tensor(edge_index.T, dtype=torch.long).contiguous()\n\u001b[32m     32\u001b[39m \u001b[38;5;28;01mreturn\u001b[39;00m edge_index\n",
      "\u001b[31mValueError\u001b[39m: all the input arrays must have same number of dimensions, but the array at index 0 has 2 dimension(s) and the array at index 1 has 1 dimension(s)"
     ]
    }
   ],
   "source": [
    "strategies = [\n",
    "    # encoders_module.ThresholdStrategy(\n",
    "    #     max_dist=5,\n",
    "    #     subsample_rate=0.5,\n",
    "    #     cache_dir=path_config.edge_cache,\n",
    "    #     cache_id=\"cora_dist\",\n",
    "    # ),\n",
    "    # encoders_module.AnchorStrategy(\n",
    "    #     cluster_sample_rate=0.7,\n",
    "    #     cache_dir=path_config.edge_cache,\n",
    "    #     cache_id=\"cora_repr\",\n",
    "    # ),\n",
    "    # encoders_module.GridStrategy(\n",
    "    #     intra_edge_ratio=0.3,\n",
    "    #     source_inter_ratio=0.01,\n",
    "    #     k_connectivity=3,\n",
    "    #     bins=4,\n",
    "    #     cache_dir=path_config.edge_cache,\n",
    "    #     cache_id=\"cora_grid\",\n",
    "    # ),\n",
    "    encoders_module.KNNStrategy(\n",
    "        K=5,\n",
    "        dist_metric=euclid_metric,\n",
    "        cache_dir=path_config.edge_cache,\n",
    "        cache_id=\"cora_knn\",\n",
    "    ),\n",
    "]\n",
    "\n",
    "strategies = [\n",
    "    GraphSetup(e, data)\n",
    "    for e in strategies\n",
    "]\n",
    "\n",
    "result = Enhancer.compare_strategies(gnn_setup, strategies)"
   ]
  },
  {
   "cell_type": "code",
   "execution_count": null,
   "id": "17cb4067",
   "metadata": {},
   "outputs": [
    {
     "name": "stdout",
     "output_type": "stream",
     "text": [
      "Option       accuracy_score    f1_score\n",
      "---------  ----------------  ----------\n",
      "cora_dist          0.372694    0.155546\n",
      "cora_repr          0.416974    0.319438\n"
     ]
    }
   ],
   "source": [
    "print(result)"
   ]
  },
  {
   "cell_type": "code",
   "execution_count": null,
   "id": "42cab25e",
   "metadata": {},
   "outputs": [],
   "source": [
    "enhancer = Enhancer(\n",
    "    net_config=gnn_setup,\n",
    "    strategy=encoders_module.ThresholdStrategy(\n",
    "        max_dist=5,\n",
    "        cache_dir=path_config.edge_cache,\n",
    "        cache_id=\"cora_dist [max dist = 5]\",\n",
    "    ),\n",
    ")"
   ]
  },
  {
   "cell_type": "code",
   "execution_count": null,
   "id": "05407b11",
   "metadata": {},
   "outputs": [],
   "source": [
    "gnn, _ = enhancer.fit(data)"
   ]
  },
  {
   "cell_type": "code",
   "execution_count": null,
   "id": "40df89fc",
   "metadata": {},
   "outputs": [
    {
     "data": {
      "text/plain": [
       "(2708, 256)"
      ]
     },
     "execution_count": 22,
     "metadata": {},
     "output_type": "execute_result"
    }
   ],
   "source": [
    "enhancer.transform(data).shape"
   ]
  },
  {
   "cell_type": "code",
   "execution_count": null,
   "id": "f5c3c5a0",
   "metadata": {},
   "outputs": [],
   "source": []
  }
 ],
 "metadata": {
  "kernelspec": {
   "display_name": "venv",
   "language": "python",
   "name": "python3"
  },
  "language_info": {
   "codemirror_mode": {
    "name": "ipython",
    "version": 3
   },
   "file_extension": ".py",
   "mimetype": "text/x-python",
   "name": "python",
   "nbconvert_exporter": "python",
   "pygments_lexer": "ipython3",
   "version": "3.12.8"
  }
 },
 "nbformat": 4,
 "nbformat_minor": 5
}
